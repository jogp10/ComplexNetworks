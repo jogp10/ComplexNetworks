{
 "cells": [
  {
   "cell_type": "markdown",
   "metadata": {},
   "source": [
    "# Centrality measures for the Karate Club network"
   ]
  },
  {
   "cell_type": "code",
   "execution_count": null,
   "metadata": {},
   "outputs": [],
   "source": [
    "import networkx as nx\n",
    "import matplotlib.pyplot as plt\n",
    "import matplotlib.colors as mcolors\n",
    "import pandas as pd\n",
    "import seaborn as sns"
   ]
  },
  {
   "cell_type": "markdown",
   "metadata": {},
   "source": [
    "In this exercise, we will get familiar with common centrality measures by applying them to a small, famous network — Zachary's Karate Club.\n",
    "\n",
    "The network captures 34 karate club members and their interactions outside the club. A conflict between \"John A\" (administrator) and \"Mr. Hi\" (instructor) led to the club splitting. Half the members joined Mr. Hi's new club, while the others either found a new instructor or quit karate. Zachary accurately predicted all but one member's group after the split. This network has been regularly used as a benchmark for community detection, something you'll learn about next week. \n",
    "\n",
    "We will use networkx to compute the following centrality measures for the network:\n",
    "\n",
    "1) Betweenness centrality $bc(i)$:\n",
    "Number of shortest paths that pass through node $i$. If there are several shortest paths between a given pair of nodes, the contribution of that pair to the betweenness of $i$ is given by the fraction of those paths that contain $i$. Betweenness scores are normalized by $(N-1)(N-2)$, i.e. the number of node pairs in the network, excluding pairs that contain $i$ because paths starting or ending in node $i$ do not contribute to its betweenness. If $\\sigma_{st}$ is the number of shortest paths from $s$ to $t$ and $\\sigma_{sit}$ the number of such paths that contain $i$, then\n",
    "$$\n",
    "bc(i) = \\frac{1}{(N-1)(N-2)}\\sum_{s\\neq i} \\sum_{t\\neq i} \\dfrac{\\sigma_{sit}}{\\sigma_{st}}.\n",
    "$$\n",
    "\n",
    "2) Closeness centrality $C(i)$:\n",
    "The inverse of the average shortest path distance to all other nodes except $i$:\n",
    "$$\n",
    "C(i) = \\dfrac{N-1}{\\sum\\limits_{v\\neq i}d(i,v)}.\n",
    "$$\n",
    "\n",
    "3) Eigenvector centrality $e(i)$:\n",
    "Eigenvector centrality is a generalization of degree that takes into account the degrees of the node's neighbors and recursively the degrees of the neighbours of its neighbours, and of the neighbours of the neighbours of the neighbours, and so on. It corresponds to the elements of the eigenvector of the adjacency matrix associated with the largest eigenvalue."
   ]
  },
  {
   "cell_type": "markdown",
   "metadata": {},
   "source": [
    "Let's first generate the network and visualize it (no modifications to the code below needed, just run it)."
   ]
  },
  {
   "cell_type": "code",
   "execution_count": null,
   "metadata": {},
   "outputs": [],
   "source": [
    "net=nx.karate_club_graph() # the network is so famous that it even has its own networkx generator...\n",
    "pos = nx.spring_layout(net) # calculate the drawing coordinates of nodes separately for future use\n",
    "nx.draw(net,pos);"
   ]
  },
  {
   "cell_type": "markdown",
   "metadata": {},
   "source": [
    "## a. Calculating and visualizing centralities using NetworkX\n",
    "\n",
    "Use NetworkX to compute the betweenness, closeness, and eigenvector centralities for the Karate Club. Then, visualize the networks with the nodes coloured according to each centrality measure, to get an understanding of where the central nodes are. The lighter the node color, the higher its centrality. \n",
    "\n",
    "\n"
   ]
  },
  {
   "cell_type": "code",
   "execution_count": null,
   "metadata": {},
   "outputs": [],
   "source": [
    "# NO NEED TO MODIFY THIS CELL. Yields a color corresponding to x (scaled between minval and maxval).\n",
    "def get_color(x, minval, maxval, cmap_name='viridis'):\n",
    "    # Normalize x between minval and maxval\n",
    "    norm = mcolors.Normalize(vmin=minval, vmax=maxval)\n",
    "    \n",
    "    # Get the colormap\n",
    "    cmap = plt.get_cmap(cmap_name)\n",
    "    \n",
    "    # Map the normalized value to a color\n",
    "    color = cmap(norm(x))\n",
    "    \n",
    "    return color"
   ]
  },
  {
   "cell_type": "code",
   "execution_count": null,
   "metadata": {
    "deletable": false,
    "nbgrader": {
     "cell_type": "code",
     "checksum": "32ba055147e0d56d37fb41780d16b760",
     "grade": true,
     "grade_id": "cell-598c66ed92538b0b",
     "locked": false,
     "points": 0,
     "schema_version": 3,
     "solution": true,
     "task": false
    },
    "tags": []
   },
   "outputs": [],
   "source": [
    "def get_centrality_measures(network, tol=1e-6):\n",
    "    \"\"\"\n",
    "    Calculates three centrality measures (betweenness, closeness, and \n",
    "    eigenvector centrality) for the nodes of the given network.\n",
    "    Returns the centralities as three dictionaries {node_id:centrality}.\n",
    "\n",
    "    Parameters\n",
    "    ----------\n",
    "    network: nx.Graph\n",
    "        The network for which the centrality measures are calculated.\n",
    "    tol: float\n",
    "        Tolerance parameter for calculating the eigenvector centrality.\n",
    "        You don't need to touch this, except if the eigenvector centrality doesn't converge.\n",
    "\n",
    "    Returns\n",
    "    -------\n",
    "    betweenness: dictionary\n",
    "        The betweenness centrality of the nodes in the network.\n",
    "    closeness: dictionary\n",
    "        The closeness centrality of the nodes in the network.\n",
    "    eigenvector: dictionary\n",
    "        The eigenvector centrality of the nodes in the network.\n",
    "    \"\"\"\n",
    "\n",
    "    #TODO: Use NetworkX functions to obtain, for each centrality measure, \n",
    "    # a dictionary where the keys are the names of the nodes and the values are \n",
    "    # the value of centrality of the corresponding node. \n",
    "    # You'll find the functions easily at https://networkx.org/documentation/stable/reference/algorithms/centrality.html\n",
    "\n",
    "    # YOUR CODE HERE\n",
    "    betweenness = nx.betweenness_centrality(network)\n",
    "    closeness = nx.closeness_centrality(network)\n",
    "    eigenvector = nx.eigenvector_centrality(network, tol=tol)\n",
    "\n",
    "    return [betweenness, closeness, eigenvector]"
   ]
  },
  {
   "cell_type": "code",
   "execution_count": null,
   "metadata": {},
   "outputs": [],
   "source": [
    "# NO NEED TO MODIFY THIS CELL\n",
    "\n",
    "centralities=get_centrality_measures(net)\n",
    "centrality_names=['betweenness centrality','closeness centrality','eigenvector centrality']\n",
    "\n",
    "# generate centrality color lists because networkx drawing cannot handle dictionaries (why oh why)\n",
    "\n",
    "centrality_color_lists=[]\n",
    "\n",
    "for c in centralities:\n",
    "    minval=min(c.values())\n",
    "    maxval=max(c.values())\n",
    "    templist=[]\n",
    "    for node in net:\n",
    "        nodecolor=get_color(c[node],minval,maxval,cmap_name='viridis')\n",
    "        templist.append(nodecolor)\n",
    "    centrality_color_lists.append(templist)\n",
    "\n",
    "figsize = (12, 2.5)\n",
    "fig, axes = plt.subplots(1, 3, figsize=figsize)\n",
    "\n",
    "for i,(centrality_color_list, centrality_name) in enumerate(zip(centrality_color_lists,centrality_names)):\n",
    "    ax = axes[i]\n",
    "    node_size = 80 * figsize[0] * figsize[1] / net.number_of_nodes()\n",
    "    nx.draw(net, ax=ax, pos=pos, \n",
    "            node_size=node_size, node_color=centrality_color_list, edge_color='dimgray', edgecolors='k')\n",
    "    ax.set_title(centrality_name)"
   ]
  },
  {
   "cell_type": "code",
   "execution_count": null,
   "metadata": {},
   "outputs": [],
   "source": [
    "figure_filename='Karate_club_centralities.pdf' # run this if you want to save the figure\n",
    "fig.savefig(figure_filename)"
   ]
  },
  {
   "cell_type": "markdown",
   "metadata": {},
   "source": [
    "### b. Correlations between centralities\n",
    "Next, we'll have a look at how the various centrality measures correlate. We'll also include the node degree here. Modify the code below to get a list of node degrees and run it to produce a grid that contains scatterplots between all measures. Here, we'll use Pandas and Seaborn, which are both very handy tools for any budding data scientist.   "
   ]
  },
  {
   "cell_type": "code",
   "execution_count": null,
   "metadata": {
    "deletable": false,
    "nbgrader": {
     "cell_type": "code",
     "checksum": "b14d3939c39ef06ebe5fa9cd05a6ad63",
     "grade": true,
     "grade_id": "cell-d13211f55bf6cefc",
     "locked": false,
     "points": 0,
     "schema_version": 3,
     "solution": true,
     "task": false
    },
    "tags": []
   },
   "outputs": [],
   "source": [
    "\n",
    "df=pd.DataFrame()\n",
    "\n",
    "degree_list=[]\n",
    "betweenness_list=[]\n",
    "closeness_list=[]\n",
    "eigenvector_list=[]\n",
    "\n",
    "# TODO: fill the above lists with node degrees and centrality measures (for node in net: ...)\n",
    "# use the three centrality dictionaries from above (the variable centralities is a list of three dictionaries, one for each centrality)\n",
    "\n",
    "# YOUR CODE HERE\n",
    "for node in net:\n",
    "    degree_list.append(net.degree[node])\n",
    "    betweenness_list.append(centralities[0][node])\n",
    "    closeness_list.append(centralities[1][node])\n",
    "    eigenvector_list.append(centralities[2][node])\n",
    "\n",
    "df = pd.concat([df, pd.DataFrame({'degree': degree_list,'betweenness': betweenness_list,'closeness': closeness_list,'eigenvector': eigenvector_list})])\n",
    "    \n",
    "    # Plot pairwise relationships\n",
    "grid = sns.PairGrid(df)\n",
    "grid.map_offdiag(sns.scatterplot, alpha=0.6)\n",
    "grid.add_legend()"
   ]
  },
  {
   "cell_type": "code",
   "execution_count": null,
   "metadata": {},
   "outputs": [],
   "source": [
    "# Save figure in the current directory\n",
    "grid.figure.savefig('centrality_pairwise_scatter.pdf')"
   ]
  },
  {
   "cell_type": "code",
   "execution_count": null,
   "metadata": {},
   "outputs": [],
   "source": []
  },
  {
   "cell_type": "code",
   "execution_count": null,
   "metadata": {},
   "outputs": [],
   "source": []
  }
 ],
 "metadata": {
  "kernelspec": {
   "display_name": "Python 3",
   "language": "python",
   "name": "python3"
  },
  "language_info": {
   "codemirror_mode": {
    "name": "ipython",
    "version": 3
   },
   "file_extension": ".py",
   "mimetype": "text/x-python",
   "name": "python",
   "nbconvert_exporter": "python",
   "pygments_lexer": "ipython3",
   "version": "3.10.12"
  }
 },
 "nbformat": 4,
 "nbformat_minor": 4
}
