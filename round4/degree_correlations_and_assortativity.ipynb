{
 "cells": [
  {
   "cell_type": "code",
   "execution_count": null,
   "metadata": {},
   "outputs": [],
   "source": []
  },
  {
   "cell_type": "markdown",
   "metadata": {},
   "source": [
    "# Degree correlations and assortativity\n",
    "\n",
    "In this problem, we consider degree correlations and assortativity of a real-world network: a network of collaborations between network scientists (from M. E. J. Newman, \"Finding community structure in networks using the eigenvectors of matrices.\" Phys. Rev. E 74, 036104 (2006))."
   ]
  },
  {
   "cell_type": "code",
   "execution_count": null,
   "metadata": {},
   "outputs": [],
   "source": [
    "import networkx as nx\n",
    "import matplotlib.pyplot as plt\n",
    "import numpy as np\n",
    "import scipy.stats as stats\n",
    "import matplotlib as mpl"
   ]
  },
  {
   "cell_type": "code",
   "execution_count": null,
   "metadata": {},
   "outputs": [],
   "source": [
    "# NO NEED TO MODIFY THESE FUNCTIONS\n",
    "def create_scatter(x_degrees, y_degrees, network_title):\n",
    "    \"\"\"\n",
    "    For x_degrees, y_degrees pair, creates and\n",
    "    saves a scatter of the degrees.\n",
    "\n",
    "    Parameters\n",
    "    ----------\n",
    "    x_degrees: list or array\n",
    "    y_degrees: list or array\n",
    "    network_title: str\n",
    "        a network-referring title (string) for figures\n",
    "\n",
    "    Returns\n",
    "    -------\n",
    "    fig: figure object\n",
    "    \"\"\"\n",
    "    fig, ax = plt.subplots(figsize=(6, 6), layout='constrained')\n",
    "    alpha = 0.5\n",
    "    ax.plot(x_degrees, y_degrees, 'r', ls='', marker='o', ms=3, alpha=alpha)\n",
    "    ax.set_xlabel(r'Degree $k$')\n",
    "    ax.set_ylabel(r'Degree $k$')\n",
    "    ax.set_title(network_title)\n",
    "\n",
    "    return fig\n",
    "\n",
    "def create_heatmap(x_degrees, y_degrees, network_title):\n",
    "    \"\"\"\n",
    "    For x_degrees, y_degrees pair, creates and\n",
    "    saves a heatmap of the degrees.\n",
    "\n",
    "    Parameters\n",
    "    ----------\n",
    "    x_degrees: list or array\n",
    "    y_degrees: list or array\n",
    "    network_title: str\n",
    "        a network-referring title (string) for figures\n",
    "\n",
    "    Returns\n",
    "    -------\n",
    "    fig: figure object\n",
    "    \"\"\"\n",
    "    k_min = np.min((x_degrees, y_degrees))\n",
    "    k_max = np.max((x_degrees, y_degrees))\n",
    "\n",
    "    n_bins = k_max - k_min + 1\n",
    "    statistic = stats.binned_statistic_2d(x_degrees, y_degrees, None, \n",
    "                                          statistic='count', bins=n_bins)[0]\n",
    "\n",
    "    fig, ax = plt.subplots(figsize=(6, 6), layout='constrained')\n",
    "    cmap = plt.get_cmap('jet')\n",
    "    ax.imshow(statistic, extent=(k_min-0.5, k_max+0.5, k_min-0.5, k_max+0.5),\n",
    "              origin='lower', cmap=cmap, interpolation='nearest')\n",
    "    ax.set_title(network_title)\n",
    "    ax.set_xlabel(r'Degree $k$')\n",
    "    ax.set_ylabel(r'Degree $k$')\n",
    "    norm = mpl.colors.Normalize(vmin=np.min(statistic), vmax=np.max(statistic))\n",
    "    scm = mpl.cm.ScalarMappable(norm=norm, cmap=cmap)\n",
    "    fig.colorbar(scm, ax=ax)\n",
    "    return fig"
   ]
  },
  {
   "cell_type": "markdown",
   "metadata": {},
   "source": [
    "## Loading the data\n",
    "Let us load the data from the right folder. If you run this notebook on your machine, please specify the right folder."
   ]
  },
  {
   "cell_type": "code",
   "execution_count": null,
   "metadata": {},
   "outputs": [],
   "source": [
    "# Select data directory\n",
    "import os\n",
    "import pickle\n",
    "if os.path.isdir('/coursedata'):\n",
    "    course_data_dir = '/coursedata'\n",
    "elif os.path.isdir('../data'):\n",
    "    course_data_dir = '../data'\n",
    "else:\n",
    "    # Specify course_data_dir on your machine\n",
    "    course_data_dir = '.'\n",
    "    # YOUR CODE HERE\n",
    "    #raise NotImplementedError()\n",
    "\n",
    "print('The data directory is %s' % course_data_dir)\n",
    "\n",
    "network_fname = os.path.join(course_data_dir, 'netscience.gml')\n",
    "network = nx.read_gml(network_fname)"
   ]
  },
  {
   "cell_type": "code",
   "execution_count": null,
   "metadata": {},
   "outputs": [],
   "source": []
  },
  {
   "cell_type": "markdown",
   "metadata": {},
   "source": [
    "## a,b) Generate a degree-degree scatterplot\n",
    "**Generate a scatter plot** of the degrees of pairs of connected nodes. That is, take each connected pair of nodes $(i,j)$, take their degrees $k_i$ and $k_j$, plot the point $(k_i,k_j)$ on two axes with degrees as their units, and repeat for all pairs of connected nodes. Because the network is undirected, the plot should be symmetrical, containing points $(k_i,k_j)$ and $(k_j,k_i)$ for all connected pairs $(i,j)$. \n",
    "\n",
    "First, extract the degrees of links with a function, and then use the lists returned by the function for the scatterplot. Have a look at the plot, and answer the questions in MyCourses.\n"
   ]
  },
  {
   "cell_type": "code",
   "execution_count": null,
   "metadata": {
    "deletable": false,
    "nbgrader": {
     "cell_type": "code",
     "checksum": "509dc51afe968d54f67830074e4c3c89",
     "grade": true,
     "grade_id": "cell-4aa7630e79f226cb",
     "locked": false,
     "points": 0,
     "schema_version": 3,
     "solution": true,
     "task": false
    },
    "tags": []
   },
   "outputs": [],
   "source": [
    "def get_x_and_y_degrees(network):\n",
    "    \"\"\"\n",
    "    For the given network, creates two lists (x_degrees and y_degrees) \n",
    "    of degrees such that \"start\" and \"end\" nodes of each edge is in \n",
    "    x_degrees and y_degrees, respectively. \n",
    "    That is, the degree of the start node of n-th edge is x_degrees[n] \n",
    "    and the degree of the end node of n-th edge is y_degrees[n].\n",
    "    For undirected networks, each edge is considered twice because \n",
    "    each attached node is counted as a start node and an end node.\n",
    "\n",
    "    Parameters\n",
    "    ----------\n",
    "    network: a NetworkX graph object\n",
    "\n",
    "    Returns\n",
    "    -------\n",
    "    x_degrees: list\n",
    "    y_degrees: list\n",
    "    \"\"\"\n",
    "    edges = network.edges()\n",
    "    x_degrees = []\n",
    "    y_degrees = []\n",
    "    # TODO: write the correct definition for x_arrays and y_arrays\n",
    "    # YOUR CODE HERE\n",
    "    raise NotImplementedError()\n",
    "    return x_degrees, y_degrees"
   ]
  },
  {
   "cell_type": "code",
   "execution_count": null,
   "metadata": {},
   "outputs": [],
   "source": [
    "# use the above-defined function to generate and save the scatterplot\n",
    "x_degrees, y_degrees = get_x_and_y_degrees(network)\n",
    "fig = create_scatter(x_degrees, y_degrees, 'Collaboration network')\n",
    "fig.savefig('scatterplot_degrees_collnet.pdf')"
   ]
  },
  {
   "cell_type": "markdown",
   "metadata": {},
   "source": [
    "## c) Heatmap\n",
    "Next **produce a heat map** of the degrees of connected node pairs (http://en.wikipedia.org/wiki/Heat_map). The heat map uses the same information as you used in part a), that is, the degrees of pairs of connected nodes. However, no points are plotted: rather, the two degree axes are **binned** and the number of degree pairs $(k_i,k_j)$ in each bin is computed. Then, the bin is colored according to this number (e.g., red = many connected pairs of nodes with degrees falling in the bin). Again, the heat map ought to be symmetrical. **What extra information** do you gain by using a heatmap instead of just a scatter plot (if any)?"
   ]
  },
  {
   "cell_type": "code",
   "execution_count": null,
   "metadata": {},
   "outputs": [],
   "source": [
    "fig = create_heatmap(x_degrees, y_degrees, \"collaboration_network\")"
   ]
  },
  {
   "cell_type": "code",
   "execution_count": null,
   "metadata": {},
   "outputs": [],
   "source": [
    "# Save figure \n",
    "path=\"./\"\n",
    "fig.savefig(path+'collaboration_network_heatmap'+'.pdf');"
   ]
  },
  {
   "cell_type": "markdown",
   "metadata": {},
   "source": [
    "## d) Assortativity\n",
    "The assortativity coefficient is defined as the Pearson correlation coefficient of the degrees of pairs of connected nodes.\n",
    "**Calculate and report the assortativity coefficients for the collaboration network** both using `scipy.stats.pearsonr` and NetworkX function `degree_assortativity_coefficient`. Check that both methods return the same value. "
   ]
  },
  {
   "cell_type": "code",
   "execution_count": null,
   "metadata": {
    "deletable": false,
    "nbgrader": {
     "cell_type": "code",
     "checksum": "c03efbb32f85205cda0cbe42052ff179",
     "grade": true,
     "grade_id": "cell-049ffcfe70fb39a1",
     "locked": false,
     "points": 0,
     "schema_version": 3,
     "solution": true,
     "task": false
    },
    "tags": []
   },
   "outputs": [],
   "source": [
    "def assortativity(x_degrees, y_degrees):\n",
    "    \"\"\"\n",
    "    Calculates assortativity for a network, i.e. Pearson correlation\n",
    "    coefficient between x_degrees and y_degrees in the network.\n",
    "\n",
    "    Parameters\n",
    "    ----------\n",
    "    x_degrees: np.array\n",
    "    y_degrees: np.array\n",
    "\n",
    "    Returns\n",
    "    -------\n",
    "    assortativity: float\n",
    "        the assortativity value of the network as a number\n",
    "    \"\"\"\n",
    "    # assortativity = ? # to be replaced\n",
    "    # TIP: #TODO: write code for calculating assortativity\n",
    "    # YOUR CODE HERE\n",
    "    raise NotImplementedError()\n",
    "    return assortativity"
   ]
  },
  {
   "cell_type": "code",
   "execution_count": null,
   "metadata": {},
   "outputs": [],
   "source": [
    " # assortativity\n",
    "assortativity_own = assortativity(x_degrees, y_degrees)\n",
    "assortativity_nx = nx.degree_assortativity_coefficient(network)\n",
    "print(\"Own assortativity: {:.5g}\".format(assortativity_own))\n",
    "print(\"NetworkX assortativity: {:.5g}\".format(assortativity_nx))"
   ]
  },
  {
   "cell_type": "markdown",
   "metadata": {},
   "source": [
    "## d) Average Nearest Neighbor Degree\n",
    "\n",
    "For the collaboration network, **compute** the average nearest neighbour degree $k_{nn}$ of each node and **make a scatter plot** of $k_{nn}$ as a function of $k$. In the same plot, **draw** also the curve of $\\langle k_{nn} \\rangle(k)$ as a function of $k$, i.e. the average of $k_{nn}$ for each $k$ value. What do you see?"
   ]
  },
  {
   "cell_type": "code",
   "execution_count": null,
   "metadata": {
    "deletable": false,
    "nbgrader": {
     "cell_type": "code",
     "checksum": "e327ce39ab0fee77582c3f1a9dcf137a",
     "grade": true,
     "grade_id": "cell-b0f519facb9cd0c2",
     "locked": false,
     "points": 0,
     "schema_version": 3,
     "solution": true,
     "task": false
    },
    "tags": []
   },
   "outputs": [],
   "source": [
    "def get_nearest_neighbor_degree(network):\n",
    "    \"\"\"\n",
    "    Calculates the average nearest neighbor degree for each node.\n",
    "\n",
    "    Parameters\n",
    "    ----------\n",
    "    network: NetworkX graph\n",
    "\n",
    "    Returns\n",
    "    -------\n",
    "    degrees: list-like\n",
    "        array of degree of nodes\n",
    "    nearest_neighbor_degrees: list-like\n",
    "        an array of average nearest neighbor degree of nodes \n",
    "        in the same order as degrees\n",
    "    \"\"\"\n",
    "    degrees = [] #to be replaced\n",
    "    avg_nearest_neighbor_degrees = [] #to be replaced\n",
    "    # TODO: Calculate degrees and average nearest neighbor degrees of network\n",
    "    # Hint: if using nx.degree() and nx.average_neighbor_degree(), remember\n",
    "    # that key-value pairs of dictionaries are not automatically in a fixed order!\n",
    "\n",
    "    # YOUR CODE HERE\n",
    "    raise NotImplementedError()\n",
    "    return degrees, avg_nearest_neighbor_degrees"
   ]
  },
  {
   "cell_type": "code",
   "execution_count": null,
   "metadata": {
    "deletable": false,
    "nbgrader": {
     "cell_type": "code",
     "checksum": "5980839bc379849bd38a2de754fd2d28",
     "grade": true,
     "grade_id": "cell-9aefaf5b65efc2ef",
     "locked": false,
     "points": 0,
     "schema_version": 3,
     "solution": true,
     "task": false
    },
    "tags": []
   },
   "outputs": [],
   "source": [
    "def calculate_average_y_for_each_unique_x_value(x_values, y_values):\n",
    "    \"\"\"\n",
    "    Calculates average of y values for each unique x value.\n",
    "\n",
    "    Parameters\n",
    "    ----------\n",
    "    x_values: an array of x values\n",
    "    y_values: an array of corresponding y values\n",
    "\n",
    "    Returns\n",
    "    -------\n",
    "    unique_x_values: an array of unique x values\n",
    "    bin_average: an array of average y values per each unique x\n",
    "    \"\"\"\n",
    "    # TODO: make an array of unique x-values. \n",
    "    # This array will be used to compute average of y-values corresponding to \n",
    "    # each unique x-value.\n",
    "    unique_x_values = np.array([]) # replace\n",
    "    # YOUR CODE HERE\n",
    "    raise NotImplementedError()\n",
    "\n",
    "    # Now we compute the average of y-values corresponding to each unique x-value \n",
    "    # and save them in a np.array which is ordered based on unique_x_values \n",
    "    grouped_y_values = {x:[] for x in unique_x_values}\n",
    "    for i, x in enumerate(x_values):\n",
    "        y = y_values[i]\n",
    "        grouped_y_values[x].append(y)\n",
    "    y_averages = np.array([np.mean(grouped_y_values[unique_x]) \n",
    "                           for unique_x in unique_x_values])\n",
    "    return unique_x_values, y_averages"
   ]
  },
  {
   "cell_type": "code",
   "execution_count": null,
   "metadata": {},
   "outputs": [],
   "source": [
    "#you do not need to change anything in this function\n",
    "def visualize_nearest_neighbor_degree(degrees, nearest_neighbor_degrees, \n",
    "                                      unique_x_value, y_averages,\n",
    "                                      network_title):\n",
    "    \"\"\"\n",
    "    Visualizes the nearest neighbor degree for each degree as a scatter and\n",
    "    the mean nearest neighbor degree per degree as a line.\n",
    "\n",
    "    Parameters\n",
    "    ----------\n",
    "    degrees: list-like\n",
    "        an array of node degrees\n",
    "    nearest_neighbor_degrees: list-like\n",
    "        an array of average nearest neighbor degree of nodes \n",
    "        in the same order as degrees\n",
    "    unique_x_value: list-like\n",
    "        unique degree values\n",
    "    y_averages: list-like\n",
    "        the mean nearest neighbor degree per unique degree value\n",
    "    network_title: str\n",
    "        network-referring title (string) for figure\n",
    "\n",
    "    Returns\n",
    "    -------\n",
    "    fig : figure object\n",
    "    \"\"\"\n",
    "\n",
    "    fig, ax = plt.subplots(figsize=(6, 4), layout='constrained')\n",
    "    ax.scatter(degrees, nearest_neighbor_degrees, marker='.', \n",
    "               label=r'$k_{nn}(k)$')\n",
    "    ax.plot(unique_x_value, y_averages, color='r', lw=2, \n",
    "            label=r'$\\langle k_{nn} \\rangle (k)$')\n",
    "    ax.set_xscale('log')\n",
    "    ax.set_yscale('log')\n",
    "    ax.set_title(network_title)\n",
    "    ax.set_xlabel(r'Degree $k$')\n",
    "    ax.set_ylabel(r'Average nearest neighbor degree $k_{nn}$')\n",
    "    ax.legend(loc=0)\n",
    "    return fig"
   ]
  },
  {
   "cell_type": "code",
   "execution_count": null,
   "metadata": {},
   "outputs": [],
   "source": [
    "network_title = 'Scientific collaboration network'\n",
    "\n",
    "degrees, nearest_neighbor_degrees = get_nearest_neighbor_degree(network)\n",
    "unique_degrees, mean_nearest_neighbor_degrees = \\\n",
    "    calculate_average_y_for_each_unique_x_value(degrees, nearest_neighbor_degrees)\n",
    "fig = visualize_nearest_neighbor_degree(degrees,\n",
    "                                        nearest_neighbor_degrees,\n",
    "                                        unique_degrees,\n",
    "                                        mean_nearest_neighbor_degrees,\n",
    "                                        network_title)"
   ]
  },
  {
   "cell_type": "code",
   "execution_count": null,
   "metadata": {},
   "outputs": [],
   "source": [
    "# Save figure\n",
    "path='./'\n",
    "fig.savefig(path+'collaborations_knn'+'.pdf')"
   ]
  }
 ],
 "metadata": {
  "kernelspec": {
   "display_name": "Python 3",
   "language": "python",
   "name": "python3"
  },
  "language_info": {
   "codemirror_mode": {
    "name": "ipython",
    "version": 3
   },
   "file_extension": ".py",
   "mimetype": "text/x-python",
   "name": "python",
   "nbconvert_exporter": "python",
   "pygments_lexer": "ipython3",
   "version": "3.10.12"
  },
  "varInspector": {
   "cols": {
    "lenName": 16,
    "lenType": 16,
    "lenVar": 40
   },
   "kernels_config": {
    "python": {
     "delete_cmd_postfix": "",
     "delete_cmd_prefix": "del ",
     "library": "var_list.py",
     "varRefreshCmd": "print(var_dic_list())"
    },
    "r": {
     "delete_cmd_postfix": ") ",
     "delete_cmd_prefix": "rm(",
     "library": "var_list.r",
     "varRefreshCmd": "cat(var_dic_list()) "
    }
   },
   "types_to_exclude": [
    "module",
    "function",
    "builtin_function_or_method",
    "instance",
    "_Feature"
   ],
   "window_display": false
  },
  "vscode": {
   "interpreter": {
    "hash": "b0fa6594d8f4cbf19f97940f81e996739fb7646882a419484c72d19e05852a7e"
   }
  }
 },
 "nbformat": 4,
 "nbformat_minor": 4
}
