{
 "cells": [
  {
   "cell_type": "code",
   "execution_count": 1,
   "metadata": {
    "tags": []
   },
   "outputs": [],
   "source": [
    "import networkx as nx\n",
    "import matplotlib.pyplot as plt\n",
    "import numpy as np\n",
    "import scipy.stats\n",
    "\n",
    "rng = np.random.default_rng()"
   ]
  },
  {
   "cell_type": "code",
   "execution_count": 2,
   "metadata": {
    "tags": []
   },
   "outputs": [],
   "source": [
    "def linlog_bins(data, numbins=10):\n",
    "    \"\"\"\n",
    "    Logarithmic binning algorithm for discrete data. \n",
    "    Return bin edges that are linear in the range [1, logmin] \n",
    "    and logarithmic in the range [logmin, maxval + 1].\n",
    "    logmin is chosen such that the widths of the logarithmic bins are\n",
    "    at least 1.5.\n",
    "    \"\"\"\n",
    "    maxval = np.max(data)\n",
    "    for logmin in range(1, maxval):\n",
    "        ratio = np.exp((np.log(maxval + 1) - np.log(logmin)) / (numbins - logmin + 2))\n",
    "        if logmin * ratio > logmin + 1.5:\n",
    "            break\n",
    "    # Construct the bins\n",
    "    bins = np.concatenate((np.arange(1, logmin), \n",
    "        np.ceil(np.geomspace(logmin, maxval + 1, numbins - logmin + 2)))) - 0.5\n",
    "    return bins"
   ]
  },
  {
   "cell_type": "markdown",
   "metadata": {},
   "source": [
    "# Implementing the random-walk based growing network model"
   ]
  },
  {
   "cell_type": "markdown",
   "metadata": {},
   "source": [
    "The results of the previous section suggest that the friendship paradox is a general property of random networks. Can we leverage this property to design a growing network model that generates scale-free networks? Here, we implement the random-walk based growing network model. This model is based on the following idea:\n",
    "\n",
    "1. Add a new node to the network and randomly select $m$ target nodes.\n",
    "2. For each target node, select a random neighbor and move the target to that neighbor. \n",
    "3. Create a link between the new node and each of the $m$ target nodes after repeating step 2 for $t$ steps.\n",
    "4. Repeat steps 1-3 until the network reaches the desired size $N$."
   ]
  },
  {
   "cell_type": "code",
   "execution_count": 3,
   "metadata": {
    "deletable": false,
    "nbgrader": {
     "cell_type": "code",
     "checksum": "da02b18053dc97bd0bb609ddd449c356",
     "grade": true,
     "grade_id": "cell-d51453abd00d38bb",
     "locked": false,
     "points": 0,
     "schema_version": 3,
     "solution": true,
     "task": false
    },
    "tags": []
   },
   "outputs": [],
   "source": [
    "def rw_based_growing_network(N, m, t, seed_net_size, rng):\n",
    "    '''\n",
    "    Generate a growing network using the random walk based model.\n",
    "    N: the final number of nodes in the network\n",
    "    m: the number of edges to be added at each time step\n",
    "    t: the length of the random walk\n",
    "    seed_net_size: the size of the seed network\n",
    "    rng: a numpy random number generator\n",
    "    '''\n",
    "    # Generate the seed network (a clique of size seed_net_size)\n",
    "    G = nx.complete_graph(seed_net_size)    \n",
    "\n",
    "    # TODO: Grow the network by adding nodes one by one until it reaches size N\n",
    "    while len(G.nodes()) < N:\n",
    "        # The index of the new node to be added\n",
    "        new_node = max(G.nodes()) + 1\n",
    "        nodes = list(G.nodes())\n",
    "        G.add_node(new_node)\n",
    "\n",
    "        # Choose m target nodes randomly from the existing nodes. \n",
    "        # For each target node, perform a random walk for t steps and add an edge\n",
    "        # between the new node and the node reached by the random walk.\n",
    "        # If the random walk reaches the new node itself or a node that is already connected to the new node, \n",
    "        # forming an edge would create a self-loop or a multi-edge, respectively.\n",
    "        # In this case, restart the random walk from the target node.\n",
    "\n",
    "        # YOUR CODE HERE\n",
    "        targets = rng.choice(nodes, m, replace=False)\n",
    "        for target in targets:\n",
    "            for _ in range(t):\n",
    "                if target == new_node or new_node in G.neighbors(target):\n",
    "                    target = rng.choice(nodes)\n",
    "                else:\n",
    "                    break\n",
    "            G.add_edge(new_node, target)\n",
    "    return G"
   ]
  },
  {
   "cell_type": "code",
   "execution_count": 4,
   "metadata": {
    "tags": []
   },
   "outputs": [],
   "source": [
    "G = rw_based_growing_network(10000, m=3, t=8, seed_net_size=4, rng=rng)"
   ]
  },
  {
   "cell_type": "code",
   "execution_count": 5,
   "metadata": {
    "tags": []
   },
   "outputs": [
    {
     "data": {
      "image/png": "[encoded data removed]",
      "text/plain": [
       "<Figure size 640x480 with 1 Axes>"
      ]
     },
     "metadata": {},
     "output_type": "display_data"
    }
   ],
   "source": [
    "# Plot the degree distribution on a log-log scale\n",
    "degrees = [degree for _, degree in G.degree()]\n",
    "bins = linlog_bins(degrees, numbins=20)\n",
    "pk, bin_edges = np.histogram(degrees, bins=bins, density=True)\n",
    "bincenters, _, _ = scipy.stats.binned_statistic(degrees, degrees, statistic='mean', bins=bins)\n",
    "\n",
    "fig, ax = plt.subplots()\n",
    "ax.plot(bincenters, pk, 'o')\n",
    "ax.set_xscale('log')\n",
    "ax.set_yscale('log')\n",
    "ax.set_xlabel('Degree $k$')\n",
    "ax.set_ylabel('$P(k)$')\n",
    "ax.grid()"
   ]
  },
  {
   "cell_type": "code",
   "execution_count": 6,
   "metadata": {
    "tags": []
   },
   "outputs": [],
   "source": [
    "# Save the figure to current directory\n",
    "figure_filename = 'rw_based_model_degree_distribution.pdf'\n",
    "fig.savefig(figure_filename)"
   ]
  },
  {
   "cell_type": "code",
   "execution_count": null,
   "metadata": {},
   "outputs": [],
   "source": []
  },
  {
   "cell_type": "code",
   "execution_count": null,
   "metadata": {},
   "outputs": [],
   "source": []
  }
 ],
 "metadata": {
  "kernelspec": {
   "display_name": "Python 3",
   "language": "python",
   "name": "python3"
  },
  "language_info": {
   "codemirror_mode": {
    "name": "ipython",
    "version": 3
   },
   "file_extension": ".py",
   "mimetype": "text/x-python",
   "name": "python",
   "nbconvert_exporter": "python",
   "pygments_lexer": "ipython3",
   "version": "3.10.12"
  }
 },
 "nbformat": 4,
 "nbformat_minor": 4
}
