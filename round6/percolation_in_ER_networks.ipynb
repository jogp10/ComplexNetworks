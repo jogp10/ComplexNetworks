{
 "cells": [
  {
   "cell_type": "markdown",
   "metadata": {},
   "source": [
    "# Percolation in Erdős-Rényi networks"
   ]
  },
  {
   "cell_type": "code",
   "execution_count": null,
   "metadata": {},
   "outputs": [],
   "source": [
    "import numpy as np\n",
    "import networkx as nx\n",
    "import matplotlib.pyplot as plt\n",
    "\n",
    "rng = np.random.default_rng()"
   ]
  },
  {
   "cell_type": "markdown",
   "metadata": {},
   "source": [
    "As you should know by now, Erdős-Rényi (ER) networks are random networks where $N$ nodes are randomly connected such that the probability that a pair of nodes is connected is $p$. In this exercise, we will analyze the percolation properties of ER graphs as a function of their average degree $\\langle k\\rangle$, which, as you know, depends on $p$.\n",
    "\n",
    "## a)Visualization\n",
    "\n",
    "We start by visualizing the percolation process in a relatively small ER network. Create ER networks, each with $N = 500$ nodes and average degree $\\langle k \\rangle = [0.7, 0.9, 1.1, 1.3, 1.5]$, respectively. Visualize each network with the nodes in the largest component in red and the rest of the nodes in grey. Then answer the MyCourses quiz question."
   ]
  },
  {
   "cell_type": "code",
   "execution_count": null,
   "metadata": {
    "deletable": false,
    "nbgrader": {
     "cell_type": "code",
     "checksum": "bae7a424d252f76973381aed7332d8da",
     "grade": true,
     "grade_id": "cell-08d636268cf63b9b",
     "locked": false,
     "points": 0,
     "schema_version": 3,
     "solution": true,
     "task": false
    },
    "tags": []
   },
   "outputs": [],
   "source": [
    "def link_probability_of_ER_network(n, avg_degree):\n",
    "    '''\n",
    "    Return the probability of a link between any two nodes in an ER network \n",
    "    given number of nodes n and average degree avg_degree.\n",
    "    '''\n",
    "    p = 0 # Replace!\n",
    "    # TODO: calculate the link probability p of the ER model for the given n and avg_degree\n",
    "    # YOUR CODE HERE\n",
    "    # YOUR CODE HERE\n",
    "\n",
    "    p = avg_degree / (n - 1)\n",
    "\n",
    "    return p\n",
    "\n",
    "def largest_component(G):\n",
    "    '''\n",
    "    Return the largest component of a graph G as a set of nodes.\n",
    "    '''\n",
    "    nodes_in_largest_component = set() # Replace!\n",
    "    # TODO: Find the largest component of G as a set of nodes\n",
    "    # HINT: Use nx.connected_components(G) to get a list of components\n",
    "    # YOUR CODE HERE\n",
    "\n",
    "    largest_component = max(nx.connected_components(G), key=len)\n",
    "    nodes_in_largest_component = set(largest_component)\n",
    "    \n",
    "    return nodes_in_largest_component"
   ]
  },
  {
   "cell_type": "code",
   "execution_count": null,
   "metadata": {},
   "outputs": [],
   "source": [
    "# NO NEED TO MODIFY THIS FUNCTION\n",
    "def draw_largest_component(ax, G):\n",
    "    '''\n",
    "    Draw a networkx graph G on a matplotlib axis ax, with the largest component \n",
    "    highlighted in red and the rest of the nodes in grey.\n",
    "    '''\n",
    "    nodes_in_lc = largest_component(G)\n",
    "    k_spring = 2 * G.number_of_edges() * (G.number_of_nodes())**(-1.5)\n",
    "    pos = nx.spring_layout(G, k=k_spring)\n",
    "    nx.draw_networkx_nodes(G, pos=pos, nodelist=nodes_in_lc, \n",
    "                           node_size=10, node_color=\"red\", ax=ax, alpha=0.5)\n",
    "    nx.draw_networkx_nodes(G, pos=pos, nodelist=set(G.nodes()) - set(nodes_in_lc), \n",
    "                           node_size=10, node_color=\"grey\", ax=ax, alpha=0.5)\n",
    "    nx.draw_networkx_edges(G, pos=pos, width=0.5, alpha=0.3, ax=ax)"
   ]
  },
  {
   "cell_type": "code",
   "execution_count": null,
   "metadata": {},
   "outputs": [],
   "source": [
    "fig_vis, axes_vis = plt.subplots(1, 5, figsize=(20, 3.5))\n",
    "n = 500\n",
    "avg_degrees = [0.7, 0.9, 1.1, 1.3, 1.5]\n",
    "for i, avg_degree in enumerate(avg_degrees):\n",
    "    p = link_probability_of_ER_network(n, avg_degree)\n",
    "    G = nx.fast_gnp_random_graph(n, p, seed=rng)\n",
    "    draw_largest_component(axes_vis[i], G)\n",
    "    axes_vis[i].set_title(r\"$\\langle k \\rangle = {:.1f}, p = {:.2g}$\".format(avg_degree, p))"
   ]
  },
  {
   "cell_type": "code",
   "execution_count": null,
   "metadata": {},
   "outputs": [],
   "source": [
    "# Save the figure in the current directory\n",
    "fig_vis.savefig(\"percolation_in_ER_visualization.pdf\", bbox_inches=\"tight\")"
   ]
  },
  {
   "cell_type": "markdown",
   "metadata": {},
   "source": [
    "## b) Largest component size\n",
    "To understand how the size of the largest component depends on the average degree, and how they differ for different network sizes, make a plot of the fraction of nodes in the largest component as a function of the average degree $\\langle k \\rangle$ scanned between $0$ and $2.5$ in steps of $0.1$, i.e., $\\langle k \\rangle = [0, 0.1, 0.2, \\dots, 2.5]$. Consider networks with $N = [50, 500, 5000, 50000]$ nodes. By looking at the plots, estimate the percolation threshold, i.e., the value of $\\langle k \\rangle$ for which a giant component starts to appear. Enter this value into MyCourses."
   ]
  },
  {
   "cell_type": "code",
   "execution_count": null,
   "metadata": {
    "deletable": false,
    "nbgrader": {
     "cell_type": "code",
     "checksum": "b62f0ce54fc8b677dc5a68e7ed33be62",
     "grade": true,
     "grade_id": "cell-df06034a46d583e3",
     "locked": false,
     "points": 0,
     "schema_version": 3,
     "solution": true,
     "task": false
    },
    "tags": []
   },
   "outputs": [],
   "source": [
    "# Plot the fraction of the largest component as a function of average degree <k>\n",
    "network_sizes = [50, 500, 5000, 50000]\n",
    "avg_degrees = np.arange(0, 2.6, 0.1) # average degree <k>\n",
    "\n",
    "fig_diffsizes, axes_diffsizes = plt.subplots(1, 4, figsize=(16, 3))\n",
    "for i, n in enumerate(network_sizes):\n",
    "    # fraction of nodes in the largest component\n",
    "    largest_component_fractions = [] # Replace!\n",
    "\n",
    "    # TODO: Generate a ER network with for each average degree in avg_degrees,  \n",
    "    # calculate the fraction of nodes in the largest component \n",
    "    # (i.e., the largest component size normalized by the total number of nodes) \n",
    "    # and append it to largest_component_fractions\n",
    "    # YOUR CODE HERE\n",
    "\n",
    "    for avg_degree in avg_degrees:\n",
    "        p = link_probability_of_ER_network(n, avg_degree)\n",
    "        G = nx.fast_gnp_random_graph(n, p, seed=rng)\n",
    "        largest_component_size = len(largest_component(G))\n",
    "        largest_component_fraction = largest_component_size / n\n",
    "        largest_component_fractions.append(largest_component_fraction)\n",
    "    \n",
    "    axes_diffsizes[i].plot(avg_degrees, largest_component_fractions, 'o', color='black')\n",
    "    axes_diffsizes[i].set_title(r\"$N = {}$\".format(n))\n",
    "    axes_diffsizes[i].set_xlabel(r\"$\\langle k \\rangle$\")\n",
    "    axes_diffsizes[i].set_ylim(0, 1)\n",
    "axes_diffsizes[0].set_ylabel(\"fraction of largest component\")"
   ]
  },
  {
   "cell_type": "code",
   "execution_count": null,
   "metadata": {},
   "outputs": [],
   "source": [
    "# Save the figure in the current directory\n",
    "fig_diffsizes.savefig(\"percolation_in_ER_different_sizes.pdf\", bbox_inches=\"tight\")"
   ]
  },
  {
   "cell_type": "markdown",
   "metadata": {},
   "source": [
    "## c) Percolation threshold and susceptibility\n",
    "Another, more elegant way to find out when the percolation transition happens is to find the point at which the probability for the largest component size growth is the highest, as the control parameter is changed very little (here $\\langle k \\rangle$ or $p$). Consider a situation where $\\langle k \\rangle$ is changed so slightly that a single link is added between the largest component and a randomly selected node that is not in the largest component. The expected change in the largest component size in this situation is called the *susceptibility*, and it should have a large value at the percolation threshold. The susceptibility depends on the size distribution of all  components other than the largest, and it can be calculated with the following formula:\n",
    "\\begin{equation}\n",
    "\\chi = \\frac{(\\sum_i i^2 C(i)) - S_{max}^2}{(\\sum_i i C(i)) - S_{max}} \\,,\n",
    "\\end{equation}\n",
    "where $C(i)$ is the number of components with $i$ nodes. Calculate the susceptibility $\\chi$ for networks with $N = 100000$ and $\\langle k \\rangle = [0, 0.1, 0.2, \\dots, 2.5]$, and plot $\\chi$ as a function of $\\langle k \\rangle$. Then answer the MyCourses quiz. "
   ]
  },
  {
   "cell_type": "code",
   "execution_count": null,
   "metadata": {
    "deletable": false,
    "nbgrader": {
     "cell_type": "code",
     "checksum": "5e47d565c3bd9430305e5e0b7b522b7f",
     "grade": true,
     "grade_id": "cell-32c3c7dc7cc92fab",
     "locked": false,
     "points": 0,
     "schema_version": 3,
     "solution": true,
     "task": false
    },
    "tags": []
   },
   "outputs": [],
   "source": [
    "# Plot the fraction of the second largest component as a function of average degree <k>\n",
    "n = 100000\n",
    "avg_degrees = np.arange(0, 2.6, 0.1)\n",
    "\n",
    "fig_susc, axes_susc = plt.subplots(2, 1, figsize=(6, 6))\n",
    "largest_component_fractions = [] # Replace!\n",
    "susceptibilities = [] # Replace!\n",
    "\n",
    "# TODO: Generate a ER network with for each average degree in avg_degrees, and\n",
    "# 1. calculate the fraction of nodes in the largest component and append it to \n",
    "#    largest_component_fractions,\n",
    "# 2. calculate the susceptibility and append it to susceptibilities.\n",
    "\n",
    "# YOUR CODE HERE\n",
    "\n",
    "for avg_degree in avg_degrees:\n",
    "    p = link_probability_of_ER_network(n, avg_degree)\n",
    "    G = nx.fast_gnp_random_graph(n, p, seed=rng)\n",
    "    largest_component_size = len(largest_component(G))\n",
    "    largest_component_fraction = largest_component_size / n\n",
    "    largest_component_fractions.append(largest_component_fraction)\n",
    "\n",
    "    # Calculate the susceptibility\n",
    "    numerator = 0\n",
    "    denominator = 0\n",
    "\n",
    "    # \\chi = \\frac{(\\sum_i i^2 C(i)) - S_{max}^2}{(\\sum_i i C(i)) - S_{max}} \\,,\n",
    "    # where C(i) is the number of components of size i\n",
    "    # and S_{max} is the size of the largest component\n",
    "\n",
    "    component_sizes = [len(component) for component in nx.connected_components(G)]\n",
    "    component_sizes = np.bincount(component_sizes)\n",
    "\n",
    "    for i, component_size in enumerate(component_sizes):\n",
    "        numerator += i**2 * component_size\n",
    "        denominator += i * component_size\n",
    "\n",
    "    numerator -= largest_component_size**2\n",
    "    denominator -= largest_component_size\n",
    "\n",
    "    susceptibility = numerator / denominator\n",
    "    susceptibilities.append(susceptibility)\n",
    "\n",
    "axes_susc[0].plot(avg_degrees, largest_component_fractions, 'o-', color='red')\n",
    "axes_susc[1].plot(avg_degrees, susceptibilities, 'o-', color='black')\n",
    "axes_susc[0].set_title(r\"$N = {}$\".format(n))\n",
    "axes_susc[1].set_xlabel(r\"$\\langle k \\rangle$\")\n",
    "for i in range(2):\n",
    "    axes_susc[i].set_xlim(0, 2.5)\n",
    "axes_susc[0].set_ylim(top=1)\n",
    "axes_susc[0].set_ylabel(\"fraction of largest component\")\n",
    "axes_susc[1].set_ylabel(\"susceptibility\")\n",
    "axes_susc[1].grid()"
   ]
  },
  {
   "cell_type": "code",
   "execution_count": null,
   "metadata": {},
   "outputs": [],
   "source": [
    "# Save the figure in the current directory\n",
    "fig_susc.savefig(\"percolation_in_ER_susceptibility.pdf\", bbox_inches=\"tight\")"
   ]
  },
  {
   "cell_type": "code",
   "execution_count": null,
   "metadata": {},
   "outputs": [],
   "source": []
  }
 ],
 "metadata": {
  "kernelspec": {
   "display_name": "Python 3",
   "language": "python",
   "name": "python3"
  },
  "language_info": {
   "codemirror_mode": {
    "name": "ipython",
    "version": 3
   },
   "file_extension": ".py",
   "mimetype": "text/x-python",
   "name": "python",
   "nbconvert_exporter": "python",
   "pygments_lexer": "ipython3",
   "version": "3.10.12"
  }
 },
 "nbformat": 4,
 "nbformat_minor": 4
}
