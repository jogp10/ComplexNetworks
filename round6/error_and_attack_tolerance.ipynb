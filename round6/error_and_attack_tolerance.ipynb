{
 "cells": [
  {
   "cell_type": "code",
   "execution_count": null,
   "metadata": {},
   "outputs": [],
   "source": [
    "import numpy as np\n",
    "import networkx as nx\n",
    "import matplotlib.pyplot as plt\n",
    "\n",
    "rng = np.random.default_rng()"
   ]
  },
  {
   "cell_type": "markdown",
   "metadata": {},
   "source": [
    "## Error and attack tolerance of networks\n",
    "\n",
    "In this exercise, we will numerically investigate the error and attack tolerance of networks by removing nodes in a specified or random order and monitoring what happens to the size of the network's largest connected component (LCC). We will first replicate the main results of [Albert, Jeong, and Barabási, Nature 406, 2000](https://www.nature.com/articles/35019019). For this, we will generate Erdős-Rényi networks and scale-free networks, comparing how their LCC sizes depend on random or targeted node removal.\n",
    "\n",
    "You'll need to do some sorting of lists in this exercise, so you might want to check out https://wiki.python.org/moin/HowTo/Sorting\n",
    "\n",
    "### a) Calculating the largest connected component size (1 pt)\n",
    "\n",
    "First, modify the function `calc_largest_component_size(G)` to return the size of the largest connected component of the network G. Then generate an Erdős-Rényi network and a Barabási-Albert scale-free network, each with 5000 nodes and 9996 edges, calculate their largest component sizes, and answer the MyCourses quiz. \n",
    "\n",
    "Hint: In Barabási-Albert model, you can start from a star graph with 3 nodes and 2 edges, and add $m=2$ edges at every time step. \n"
   ]
  },
  {
   "cell_type": "code",
   "execution_count": null,
   "metadata": {
    "deletable": false,
    "nbgrader": {
     "cell_type": "code",
     "checksum": "6de6bbf069a3e1663f77ec5cd3f84387",
     "grade": true,
     "grade_id": "cell-eb73c83ac766032c",
     "locked": false,
     "points": 0,
     "schema_version": 3,
     "solution": true,
     "task": false
    },
    "tags": []
   },
   "outputs": [],
   "source": [
    "def calc_largest_component_size(G):\n",
    "    '''\n",
    "    Returns the number of nodes in the largest component of the graph G. \n",
    "    '''\n",
    "    lcsize = 0 # largest component size. REPLACE! See the documentation for networkx.connected_components()\n",
    "    # YOUR CODE HERE\n",
    "    components = nx.connected_components(G)\n",
    "    for component in components:\n",
    "        if len(component) > lcsize:\n",
    "            lcsize = len(component)\n",
    "\n",
    "    return lcsize"
   ]
  },
  {
   "cell_type": "code",
   "execution_count": null,
   "metadata": {
    "deletable": false,
    "nbgrader": {
     "cell_type": "code",
     "checksum": "a5970f1d131a66f001e74df2725b8571",
     "grade": true,
     "grade_id": "cell-89228c82c66733a2",
     "locked": false,
     "points": 0,
     "schema_version": 3,
     "solution": true,
     "task": false
    },
    "tags": []
   },
   "outputs": [],
   "source": [
    "N=5000 # number of nodes for both networks\n",
    "E=9996 # number of links for both networks\n",
    "m=2 # parameter for Barabási-Albert model (new node comes with 2 links)\n",
    "\n",
    "ER_network=None\n",
    "BA_network=None\n",
    "\n",
    "## TODO: GENERATE THE TWO NETWORKS USING THE PARAMETERS ABOVE\n",
    "## Use gnm_random_graph() for the ER network to get exactly the same \n",
    "## number of links as the BA network has\n",
    "\n",
    "# YOUR CODE HERE\n",
    "ER_network = nx.gnm_random_graph(N, E)\n",
    "BA_network = nx.barabasi_albert_graph(N, m)\n",
    "\n",
    "print('LCC size in the E-R network: '+str(calc_largest_component_size(ER_network))+' nodes')\n",
    "print('LCC size in the Barabási-Albert network: '+str(calc_largest_component_size(BA_network))+' nodes')\n",
    "\n",
    "print('Links in the E-R network: '+str(len(ER_network.edges)))\n",
    "print('Links in the Barabási-Albert network: '+str(len(BA_network.edges)))\n"
   ]
  },
  {
   "cell_type": "markdown",
   "metadata": {},
   "source": [
    "### b) Determining the order of node removal (2 pts)\n",
    "\n",
    "We will remove nodes in three ways: i) in increasing order of degree, from lowest to highest, ii) in decreasing order of degree, from highest to lowest, and iii) entirely randomly. Let us start by writing code for ordering the nodes. Please complete the function below, and then test it using the code block further down. Then answer the MyCourses quiz. "
   ]
  },
  {
   "cell_type": "code",
   "execution_count": null,
   "metadata": {
    "deletable": false,
    "nbgrader": {
     "cell_type": "code",
     "checksum": "9356a00f8f4ae6d4c4ef638c153c6445",
     "grade": true,
     "grade_id": "cell-4470717c8bbd5186",
     "locked": false,
     "points": 0,
     "schema_version": 3,
     "solution": true,
     "task": false
    },
    "tags": []
   },
   "outputs": [],
   "source": [
    "\n",
    "def order_of_removal(G, order='increasing'):\n",
    "\n",
    "    '''Inputs: \n",
    "                G=nx.Graph() object\n",
    "                order='increasing','decreasing','random'\n",
    "    \n",
    "       Returns a list containing the nodes of graph G ordered as follows:\n",
    "       order='increasing' — from the lowest to the highest degree\n",
    "       order='decreasing' — from the highest to the lowest degree\n",
    "       order='random' — in a random order'''\n",
    "\n",
    "    node_order=[]\n",
    "    nodes = list(G.degree()) # this is a list of tuples [(node_i,degree_i),(node_j,degree_j),...]\n",
    "    \n",
    "    if order=='increasing':\n",
    "\n",
    "        ## TODO add the nodes to the list node_order from lowest to highest degree\n",
    "        ## hint: use sorted() followed by a list comprehension.\n",
    "\n",
    "        # YOUR CODE HERE\n",
    "        nodes = sorted(nodes, key=lambda x: x[1])\n",
    "        node_order = [node[0] for node in nodes]\n",
    "\n",
    "    elif order=='decreasing':\n",
    "\n",
    "        ## TODO add the nodes to the list node_order from highest to lowest degree\n",
    "        ## hint: use sorted() followed by a list comprehension.\n",
    "\n",
    "        # YOUR CODE HERE\n",
    "        nodes = sorted(nodes, key=lambda x: x[1], reverse=True)\n",
    "        node_order = [node[0] for node in nodes]\n",
    "\n",
    "    elif order=='random':\n",
    "\n",
    "        ## TODO add the nodes to the list node_order in random order\n",
    "        ## TODO hint: you can use rng.permutation()\n",
    "        # YOUR CODE HERE\n",
    "        node_order = rng.permutation(nodes)\n",
    "        node_order = [node[0] for node in node_order]\n",
    "\n",
    "    else:\n",
    "\n",
    "        print(\"Order not recognized, use 'increasing','decreasing',or 'random'\")\n",
    "        return None\n",
    "\n",
    "    return node_order\n",
    "    "
   ]
  },
  {
   "cell_type": "code",
   "execution_count": null,
   "metadata": {},
   "outputs": [],
   "source": [
    "# NO NEED TO TOUCH THIS\n",
    "\n",
    "def orders_to_degrees(G,order):\n",
    "    '''Reads in a network 'G' and a node order 'order'\n",
    "       Returns a list of node degrees in the same order'''\n",
    "    degrees=[]\n",
    "    for node in order:\n",
    "        degrees.append(G.degree(node))\n",
    "    return degrees"
   ]
  },
  {
   "cell_type": "code",
   "execution_count": null,
   "metadata": {},
   "outputs": [],
   "source": [
    "BA_low_to_high=order_of_removal(BA_network,order='increasing')\n",
    "BA_high_to_low=order_of_removal(BA_network,order='decreasing')\n",
    "BA_random=order_of_removal(BA_network,order='random')\n",
    "\n",
    "ER_low_to_high=order_of_removal(ER_network,order='increasing')\n",
    "ER_high_to_low=order_of_removal(ER_network,order='decreasing')\n",
    "ER_random=order_of_removal(ER_network,order='random')\n",
    "\n",
    "# get the degrees of nodes following these orderings and plot them\n",
    "\n",
    "degrees_BA_low_to_high=orders_to_degrees(BA_network,BA_low_to_high)\n",
    "degrees_BA_high_to_low=orders_to_degrees(BA_network,BA_high_to_low)\n",
    "degrees_BA_random=orders_to_degrees(BA_network,BA_random)\n",
    "\n",
    "degrees_ER_low_to_high=orders_to_degrees(ER_network,ER_low_to_high)\n",
    "degrees_ER_high_to_low=orders_to_degrees(ER_network,ER_high_to_low)\n",
    "degrees_ER_random=orders_to_degrees(ER_network,ER_random)\n",
    "\n",
    "fig=plt.figure(figsize=(10,5),layout='constrained')\n",
    "ax=fig.add_subplot(1,2,1)\n",
    "\n",
    "ax.plot(degrees_BA_random,marker='.',linestyle='none',color='#ff7f0e',label='BA random')\n",
    "ax.plot(degrees_BA_low_to_high,marker='.',linestyle='none',color='#1f77b4',label='BA low to high')\n",
    "ax.plot(degrees_BA_high_to_low,marker='.',linestyle='none',color='#d62728',label='BA high to low')\n",
    "ax.set_xlabel('node')\n",
    "ax.set_ylabel('degree')\n",
    "ax.legend(loc=0)\n",
    "\n",
    "ax=fig.add_subplot(1,2,2)\n",
    "\n",
    "ax.plot(degrees_ER_random,marker='.',linestyle='none',color='#ff7f0e',label='ER random')\n",
    "ax.plot(degrees_ER_low_to_high,marker='.',linestyle='none',color='#1f77b4',label='ER low to high')\n",
    "ax.plot(degrees_ER_high_to_low,marker='.',linestyle='none',color='#d62728',label='ER high to low')\n",
    "ax.set_xlabel('node')\n",
    "ax.set_ylabel('degree')\n",
    "ax.legend(loc=0)"
   ]
  },
  {
   "cell_type": "code",
   "execution_count": null,
   "metadata": {},
   "outputs": [],
   "source": [
    "path='./' # replace with your own\n",
    "fig.savefig(path+'BA_ER_degree_orders.pdf')"
   ]
  },
  {
   "cell_type": "markdown",
   "metadata": {},
   "source": [
    "### c) LCC size vs removed nodes (3 pts)\n",
    "\n",
    "Next, we'll use the node orders generated above to remove nodes from our networks one by one, while keeping track of the largest connected component size. First, complete the code below to produce the two requested lists (fraction of nodes removed, LCC size). Then compute these lists for both networks and different node removal orders using the code block further below, and answer the questions in MyCourses."
   ]
  },
  {
   "cell_type": "code",
   "execution_count": null,
   "metadata": {
    "deletable": false,
    "nbgrader": {
     "cell_type": "code",
     "checksum": "e91dadf83096821d6b9a75ee9b417eb0",
     "grade": true,
     "grade_id": "cell-ea1221562cfa4138",
     "locked": false,
     "points": 0,
     "schema_version": 3,
     "solution": true,
     "task": false
    },
    "tags": []
   },
   "outputs": [],
   "source": [
    "def LCC_sizes_sequential_node_removal(original_G, order_removal):\n",
    "    \"\"\"\n",
    "    Calculates the size of the largest component under a sequential node removal process.\n",
    "\n",
    "    Parameters\n",
    "    ----------\n",
    "    original_G : networkx.Graph\n",
    "        The original network\n",
    "    order_removal : list of int\n",
    "        Nodes sorted in the order in which they will be removed\n",
    "\n",
    "    Returns\n",
    "    -------\n",
    "    lc_sizes : list of int\n",
    "        The size of the largest component under sequential node removal process.\n",
    "        Sampled every time additional 1% of the original nodes are removed.\n",
    "        lc_sizes[0] is the size of the largest component of the original network.\n",
    "    \"\"\"\n",
    "    G = original_G.copy()\n",
    "    \n",
    "    LCC_fractions=[] # this list will contain fractions of nodes removed\n",
    "    LCC_sizes =[] # this list will contain corresponding LCC sizes\n",
    "\n",
    "  \n",
    "    # TODO: Loop over nodes following the order defined in the input variable 'order_removal'\n",
    "    # Calculate the size of the largest connected component for 1%, 2%, ... 100% of nodes removed\n",
    "    # (E.g., by keeping track of how many nodes have been removed and computing the entry for LCC size \n",
    "    # only whenever the next percentage is reached)\n",
    "    \n",
    "    # YOUR CODE HERE\n",
    "    N = G.number_of_nodes()\n",
    "\n",
    "    for i in range(N):\n",
    "        G.remove_node(order_removal[i])\n",
    "        if i % (N//100) == 0:\n",
    "            LCC_fractions.append(i/N)\n",
    "            LCC_sizes.append(calc_largest_component_size(G))\n",
    "    \n",
    "    return LCC_fractions,LCC_sizes"
   ]
  },
  {
   "cell_type": "code",
   "execution_count": null,
   "metadata": {
    "deletable": false,
    "nbgrader": {
     "cell_type": "code",
     "checksum": "323e33718e5ff1044720183f7bbc3f76",
     "grade": true,
     "grade_id": "cell-cb451cfbee12e563",
     "locked": false,
     "points": 0,
     "schema_version": 3,
     "solution": true,
     "task": false
    },
    "tags": []
   },
   "outputs": [],
   "source": [
    "\n",
    "## TODO: for both of your networks and all three orderings (high to low, low to high, random),\n",
    "## compute two lists: LCC_network_order_fractions that contains fractions of nodes removed, and\n",
    "## LCC_network_order_sizes that contains the corresponding network sizes. Use the function defined above.\n",
    "\n",
    "LCC_BA_high_to_low_fractions=[] # fill in all these lists\n",
    "LCC_BA_high_to_low_sizes=[]\n",
    "LCC_BA_low_to_high_fractions=[]\n",
    "LCC_BA_low_to_high_sizes=[]\n",
    "LCC_BA_random_fractions=[]\n",
    "LCC_BA_random_sizes=[]\n",
    "\n",
    "LCC_ER_high_to_low_fractions=[]\n",
    "LCC_ER_high_to_low_sizes=[]\n",
    "LCC_ER_low_to_high_fractions=[]\n",
    "LCC_ER_low_to_high_sizes=[]\n",
    "LCC_ER_random_fractions=[]\n",
    "LCC_ER_random_sizes=[]\n",
    "\n",
    "# YOUR CODE HERE\n",
    "LCC_BA_high_to_low_fractions, LCC_BA_high_to_low_sizes = LCC_sizes_sequential_node_removal(BA_network, BA_high_to_low)\n",
    "LCC_BA_low_to_high_fractions, LCC_BA_low_to_high_sizes = LCC_sizes_sequential_node_removal(BA_network, BA_low_to_high)\n",
    "LCC_BA_random_fractions, LCC_BA_random_sizes = LCC_sizes_sequential_node_removal(BA_network, BA_random)\n",
    "\n",
    "LCC_ER_high_to_low_fractions, LCC_ER_high_to_low_sizes = LCC_sizes_sequential_node_removal(ER_network, ER_high_to_low)\n",
    "LCC_ER_low_to_high_fractions, LCC_ER_low_to_high_sizes = LCC_sizes_sequential_node_removal(ER_network, ER_low_to_high)\n",
    "LCC_ER_random_fractions, LCC_ER_random_sizes = LCC_sizes_sequential_node_removal(ER_network, ER_random)\n",
    "\n",
    "fig=plt.figure(figsize=(10,5),layout='constrained')\n",
    "ax=fig.add_subplot(1,2,1)\n",
    "\n",
    "ax.plot(LCC_BA_random_fractions,LCC_BA_random_sizes,marker='.',linestyle='none',color='#ff7f0e',label='BA random')\n",
    "ax.plot(LCC_BA_low_to_high_fractions,LCC_BA_low_to_high_sizes,marker='.',linestyle='none',color='#1f77b4',label='BA low to high')\n",
    "ax.plot(LCC_BA_high_to_low_fractions,LCC_BA_high_to_low_sizes,marker='.',linestyle='none',color='#d62728',label='BA high to low')\n",
    "ax.set_xlabel('fraction of nodes removed')\n",
    "ax.set_ylabel('LCC size')\n",
    "ax.legend(loc=0)\n",
    "\n",
    "ax=fig.add_subplot(1,2,2)\n",
    "\n",
    "ax.plot(LCC_ER_random_fractions,LCC_ER_random_sizes,marker='.',linestyle='none',color='#ff7f0e',label='ER random')\n",
    "ax.plot(LCC_ER_low_to_high_fractions,LCC_ER_low_to_high_sizes,marker='.',linestyle='none',color='#1f77b4',label='ER low to high')\n",
    "ax.plot(LCC_ER_high_to_low_fractions,LCC_ER_high_to_low_sizes,marker='.',linestyle='none',color='#d62728',label='ER high to low')\n",
    "ax.set_xlabel('fraction of nodes removed')\n",
    "ax.set_ylabel('LCC size')\n",
    "ax.legend(loc=0);"
   ]
  },
  {
   "cell_type": "code",
   "execution_count": null,
   "metadata": {},
   "outputs": [],
   "source": [
    "path=\"./\" # replace\n",
    "fig.savefig(path+'error_attack_tolerance_models.pdf')"
   ]
  },
  {
   "cell_type": "markdown",
   "metadata": {},
   "source": [
    "### d) Error and attack tolerance of a real-world network (2 pts)\n",
    "\n",
    "Finally, let's check how the different node removal strategies work with a real-world network. This network is from a Facebook-like online service (source: https://toreopsahl.com/datasets/). First, load the network and visualize it. "
   ]
  },
  {
   "cell_type": "code",
   "execution_count": null,
   "metadata": {},
   "outputs": [],
   "source": [
    "# Select data directory\n",
    "import os\n",
    "if os.path.isdir('/coursedata'):\n",
    "    course_data_dir = '/coursedata'\n",
    "elif os.path.isdir('../data'):\n",
    "    course_data_dir = '../data'\n",
    "else:\n",
    "    # Specify course_data_dir on your machine\n",
    "    course_data_dir = '.'\n",
    "    # YOUR CODE HERE\n",
    "    #raise NotImplementedError()\n",
    "\n",
    "print('The data directory is %s' % course_data_dir)\n",
    "network_path = os.path.join(course_data_dir, 'OClinks_w_undir.edg')\n",
    "# Load the network\n",
    "FBnet_raw = nx.read_weighted_edgelist(network_path, nodetype=int)\n",
    "print('The number of nodes in the network is: {}'.format(FBnet_raw.number_of_nodes()))"
   ]
  },
  {
   "cell_type": "code",
   "execution_count": null,
   "metadata": {},
   "outputs": [],
   "source": [
    "FBnet=FBnet_raw.subgraph(max(nx.connected_components(FBnet_raw), key=len)).copy() # starting with the LCC of the original\n",
    "fig, ax = plt.subplots(figsize=(8, 8))\n",
    "nx.draw(FBnet, node_size=8, ax=ax)"
   ]
  },
  {
   "cell_type": "markdown",
   "metadata": {},
   "source": [
    "Next, we'll do the same as above: generate node orders from high to low degree, low to high degree, and randomly. Then, we'll reuse the code above to compute the LCC size. "
   ]
  },
  {
   "cell_type": "code",
   "execution_count": null,
   "metadata": {
    "deletable": false,
    "nbgrader": {
     "cell_type": "code",
     "checksum": "4267ebf6f4e5a9c19e9c558056211e12",
     "grade": true,
     "grade_id": "cell-db7f9e606c41648e",
     "locked": false,
     "points": 0,
     "schema_version": 3,
     "solution": true,
     "task": false
    },
    "tags": []
   },
   "outputs": [],
   "source": [
    "FBnet_low_to_high=[]\n",
    "FBnet_high_to_low=[]\n",
    "FBnet_random=[]\n",
    "\n",
    "## TODO fill the above lists with node orders, recycling your code from above\n",
    "\n",
    "# YOUR CODE HERE\n",
    "FBnet_low_to_high = order_of_removal(FBnet, order='increasing')\n",
    "FBnet_high_to_low = order_of_removal(FBnet, order='decreasing')\n",
    "FBnet_random = order_of_removal(FBnet, order='random')\n",
    "\n",
    "## TODO then generate the lists for fractions of nodes removed and LCC sizes\n",
    "\n",
    "LCC_FBnet_high_to_low_fractions,LCC_FBnet_high_to_low_sizes=[],[]\n",
    "LCC_FBnet_low_to_high_fractions,LCC_FBnet_low_to_high_sizes=[],[]\n",
    "LCC_FBnet_random_fractions,LCC_FBnet_random_sizes=[],[]\n",
    "\n",
    "# YOUR CODE HERE\n",
    "LCC_FBnet_high_to_low_fractions, LCC_FBnet_high_to_low_sizes = LCC_sizes_sequential_node_removal(FBnet, FBnet_high_to_low)\n",
    "LCC_FBnet_low_to_high_fractions, LCC_FBnet_low_to_high_sizes = LCC_sizes_sequential_node_removal(FBnet, FBnet_low_to_high)\n",
    "LCC_FBnet_random_fractions, LCC_FBnet_random_sizes = LCC_sizes_sequential_node_removal(FBnet, FBnet_random)\n",
    "\n",
    "fig=plt.figure(figsize=(6,5),layout='constrained')\n",
    "ax=fig.add_subplot(1,1,1)\n",
    "\n",
    "ax.plot(LCC_FBnet_random_fractions,LCC_FBnet_random_sizes,marker='.',linestyle='none',color='#ff7f0e',label='FBnet random')\n",
    "ax.plot(LCC_FBnet_low_to_high_fractions,LCC_FBnet_low_to_high_sizes,marker='.',linestyle='none',color='#1f77b4',label='FBnet low to high')\n",
    "ax.plot(LCC_FBnet_high_to_low_fractions,LCC_FBnet_high_to_low_sizes,marker='.',linestyle='none',color='#d62728',label='FBnet high to low')\n",
    "ax.set_xlabel('fraction of nodes removed')\n",
    "ax.set_xticks(np.arange(0,1.1,0.1))\n",
    "ax.set_ylabel('LCC size')\n",
    "ax.legend(loc=0)"
   ]
  },
  {
   "cell_type": "code",
   "execution_count": null,
   "metadata": {},
   "outputs": [],
   "source": [
    "path=\"./\" # replace with your own\n",
    "fig.savefig(path+'error_attack_tolerance_fblike.pdf')"
   ]
  }
 ],
 "metadata": {
  "kernelspec": {
   "display_name": "Python 3",
   "language": "python",
   "name": "python3"
  },
  "language_info": {
   "codemirror_mode": {
    "name": "ipython",
    "version": 3
   },
   "file_extension": ".py",
   "mimetype": "text/x-python",
   "name": "python",
   "nbconvert_exporter": "python",
   "pygments_lexer": "ipython3",
   "version": "3.10.12"
  }
 },
 "nbformat": 4,
 "nbformat_minor": 4
}
