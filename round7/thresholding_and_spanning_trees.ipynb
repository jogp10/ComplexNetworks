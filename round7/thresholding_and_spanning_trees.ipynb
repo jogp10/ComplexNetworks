{
 "cells": [
  {
   "cell_type": "markdown",
   "metadata": {
    "deletable": false,
    "editable": false,
    "nbgrader": {
     "cell_type": "markdown",
     "checksum": "ce104a55dd4aa787deea4197d690bfa7",
     "grade": false,
     "grade_id": "cell-789f2948fea102c2",
     "locked": true,
     "schema_version": 3,
     "solution": false,
     "task": false
    }
   },
   "source": [
    "# Network thresholding and spanning trees: visualizing the US air traffic network\n",
    "In this exercise, we will get familiar with different approaches to thresholding networks and learn how they can be used for efficiently visualizing weighted networks.\n",
    "\n",
    "We will work with an undirected network describing air traffic in the US between the 14th and 23rd of December 2008 (Data source: Bureau of Transportation Statistics). In the network, each node corresponds to an airport, and the weights of links are equal to the number of flights between the two linked airports during the period.\n",
    "\n",
    "Source files:\n",
    "* The network is given in the file `aggregated_US_air_traffic_network_undir.edg`\n",
    "* The CSV file `us_airport_id_info.csv` contains information about the names and locations of the airports. \n",
    "* The file `US_air_bg.png` contains a map of the US to be used as a background image for visualizations.\n"
   ]
  },
  {
   "cell_type": "code",
   "execution_count": null,
   "metadata": {},
   "outputs": [],
   "source": [
    "import numpy as np\n",
    "import networkx as nx\n",
    "import matplotlib.pyplot as plt\n",
    "from PIL import Image"
   ]
  },
  {
   "cell_type": "code",
   "execution_count": null,
   "metadata": {
    "deletable": false,
    "editable": false,
    "nbgrader": {
     "cell_type": "code",
     "checksum": "9ada8939f61eccbf44333bf0ec1d2d87",
     "grade": false,
     "grade_id": "cell-84535e4724a9a593",
     "locked": true,
     "schema_version": 3,
     "solution": false,
     "task": false
    }
   },
   "outputs": [],
   "source": [
    "# NO NEED TO MODIFY THIS FUNCTION\n",
    "def visualize_US_network(ax, net, xycoords, bg_figname, edges=None, alpha=0.3):\n",
    "    \"\"\"\n",
    "    Plot the network on top of a map of the US.\n",
    "\n",
    "    Parameters\n",
    "    ----------\n",
    "    ax : matplotlib axis object\n",
    "    net : the network to be plotted\n",
    "    xycoords : dictionary of node_id to coordinates (x,y)\n",
    "    bg_figname : file name for the background map figure\n",
    "    edges : list of node index tuples (node_i,node_j),\n",
    "            if None all network edges are plotted.\n",
    "    alpha : float between 0 and 1, describing the level of\n",
    "            transparency\n",
    "    \"\"\"\n",
    "    img = Image.open(bg_figname)\n",
    "    axis_extent = (-6674391.856090588, 4922626.076444283,\n",
    "                   -2028869.260519173, 4658558.416671531)\n",
    "    ax.imshow(img, extent=axis_extent)\n",
    "    ax.set_xlim((axis_extent[0], axis_extent[1]))\n",
    "    ax.set_ylim((axis_extent[2], axis_extent[3]))\n",
    "    ax.set_axis_off()\n",
    "    nx.draw_networkx(net,\n",
    "                     pos=xycoords,\n",
    "                     with_labels=False,\n",
    "                     node_color='k',\n",
    "                     node_size=5,\n",
    "                     edge_color='r',\n",
    "                     alpha=alpha,\n",
    "                     edgelist=edges)\n",
    "    return ax"
   ]
  },
  {
   "cell_type": "markdown",
   "metadata": {
    "deletable": false,
    "editable": false,
    "nbgrader": {
     "cell_type": "markdown",
     "checksum": "3ba4d99c483fb1e2ea48b29c9d68a9b0",
     "grade": false,
     "grade_id": "cell-5415cf8d53039f9c",
     "locked": true,
     "schema_version": 3,
     "solution": false,
     "task": false
    }
   },
   "source": [
    "## Data\n",
    "Let us load the data from the right directory. If you run this notebook in your machine, please specify the right directory."
   ]
  },
  {
   "cell_type": "code",
   "execution_count": null,
   "metadata": {
    "tags": []
   },
   "outputs": [],
   "source": [
    "# Select data directory\n",
    "import os\n",
    "if os.path.isdir('/coursedata'):\n",
    "    course_data_dir = '/coursedata'\n",
    "elif os.path.isdir('../data'):\n",
    "    course_data_dir = '../data'\n",
    "else:\n",
    "    # Specify course_data_dir on your machine\n",
    "    course_data_dir = '.'\n",
    "\n",
    "print('The data directory is %s' % course_data_dir)\n",
    "\n",
    "csv_path = os.path.join(course_data_dir, 'US_airport_id_info.csv')\n",
    "network_path = os.path.join(course_data_dir, 'aggregated_US_air_traffic_network_undir.edg')\n",
    "bg_figname = os.path.join(course_data_dir, 'US_air_bg.png')\n",
    "\n",
    "id_data = np.genfromtxt(csv_path, delimiter=',', dtype=None, names=True, encoding='utf8') \n",
    "xycoords = {} # A dictionary of node coordinates for visualization\n",
    "for row in id_data:\n",
    "    xycoords[int(row['id'])] = (row['xcoordviz'], row['ycoordviz'])\n",
    "net = nx.read_weighted_edgelist(network_path, nodetype=int)"
   ]
  },
  {
   "cell_type": "markdown",
   "metadata": {
    "deletable": false,
    "editable": false,
    "nbgrader": {
     "cell_type": "markdown",
     "checksum": "136e5aafb034b9a6fb84b655301ca797",
     "grade": false,
     "grade_id": "cell-86b2372ccfb7f11e",
     "locked": true,
     "schema_version": 3,
     "solution": false,
     "task": false
    }
   },
   "source": [
    "### a) Basic properties\n",
    "Let us first check the basic network properties to get an overview of the network. **Compute** the following quantities\n",
    "- Number of nodes $N$\n",
    "- Number of links $L$\n",
    "- Network density $\\rho$\n",
    "- Average clustering coefficient $C$\n",
    "\n",
    "**Hints**:\n",
    "- For the clustering coefficient, consider the undirected and unweighted version of the network, where two airports are linked if there is a flight between them in either direction."
   ]
  },
  {
   "cell_type": "code",
   "execution_count": null,
   "metadata": {
    "deletable": false,
    "nbgrader": {
     "cell_type": "code",
     "checksum": "a43bbca7196bc05161ab984a0a0372b5",
     "grade": true,
     "grade_id": "cell-d769829ef0d7ac56",
     "locked": false,
     "points": 1,
     "schema_version": 3,
     "solution": true,
     "task": false
    }
   },
   "outputs": [],
   "source": [
    "# TODO: Calculate basic properties of the network\n",
    "# Your solution here\n",
    "# YOUR CODE HERE\n",
    "N = net.number_of_nodes()\n",
    "L = net.number_of_edges()\n",
    "p = nx.density(net)\n",
    "C = nx.average_clustering(net)\n",
    "\n",
    "print('Number of nodes: %d' % N)\n",
    "print('Number of links: %d' % L)\n",
    "print('Density: %f' % p)\n",
    "print('Average clustering coefficient: %f' % C)"
   ]
  },
  {
   "cell_type": "markdown",
   "metadata": {
    "deletable": false,
    "editable": false,
    "nbgrader": {
     "cell_type": "markdown",
     "checksum": "d812dc461eee5e1ec8a94d5766b9f600",
     "grade": false,
     "grade_id": "cell-dbf2e5238ebc3459",
     "locked": true,
     "schema_version": 3,
     "solution": false,
     "task": false
    }
   },
   "source": [
    "### b. Visualization\n",
    "**Visualize** the full network with all links on top of the map of the US. The resulting figure is somewhat messy due to the large number of visible links.\n",
    "\n",
    "**Hint**: Use the above function `visualize_US_network`."
   ]
  },
  {
   "cell_type": "code",
   "execution_count": null,
   "metadata": {
    "deletable": false,
    "nbgrader": {
     "cell_type": "code",
     "checksum": "8175bf9c590519f1511bfb1520440e5e",
     "grade": true,
     "grade_id": "cell-5723bd7e2e8618ed",
     "locked": false,
     "points": 0,
     "schema_version": 3,
     "solution": true,
     "task": false
    }
   },
   "outputs": [],
   "source": [
    "fig_full, ax_full = plt.subplots(figsize=(8, 5))\n",
    "# TODO: Plot the full network on ax_full\n",
    "# Your solution here\n",
    "# YOUR CODE HERE\n",
    "visualize_US_network(ax_full, net, xycoords, bg_figname)\n",
    "fig_full.suptitle('Full network, 100% of links')"
   ]
  },
  {
   "cell_type": "code",
   "execution_count": null,
   "metadata": {},
   "outputs": [],
   "source": [
    "# Save the figure in the current directory\n",
    "fig_full.savefig('air_traffic_full.pdf')"
   ]
  },
  {
   "cell_type": "markdown",
   "metadata": {
    "deletable": false,
    "editable": false,
    "nbgrader": {
     "cell_type": "markdown",
     "checksum": "811629a8cf80a790ac3ede527a80a896",
     "grade": false,
     "grade_id": "cell-51098c7bc9ef43dc",
     "locked": true,
     "schema_version": 3,
     "solution": false,
     "task": false
    }
   },
   "source": [
    "### c. Maximum and minimum spanning trees\n",
    "To reduce the number of plotted links, **compute** both the maximum and minimum spanning tree (MST) of the network and **visualize** them. Then, **answer** following question:\n",
    "- If you would like to understand the overall organization of the air traffic in the US, would you use the minimal or maximal spanning tree? Why?\n",
    "\n",
    "**Hint**: For computing minimum spanning trees, use `nx.minimum_spanning_tree`. For computing maximum spanning trees, use `nx.maximum_spanning_tree`."
   ]
  },
  {
   "cell_type": "code",
   "execution_count": null,
   "metadata": {
    "deletable": false,
    "nbgrader": {
     "cell_type": "code",
     "checksum": "8ebbce751e4ec8633a5dc918f3fe2d50",
     "grade": true,
     "grade_id": "cell-a9ad325f7cfdc1d8",
     "locked": false,
     "points": 0,
     "schema_version": 3,
     "solution": true,
     "task": false
    }
   },
   "outputs": [],
   "source": [
    "fig_minst, ax_minst = plt.subplots(figsize=(8, 5))\n",
    "n_minst = 0 # REPLACE! number of links in minimum spanning tree\n",
    "\n",
    "# TODO: Obtain the minimum spanning tree and plot it on ax_minst\n",
    "# Your solution here\n",
    "# YOUR CODE HERE\n",
    "minst = nx.minimum_spanning_tree(net)\n",
    "n_minst = minst.number_of_edges()\n",
    "visualize_US_network(ax_minst, minst, xycoords, bg_figname)\n",
    "\n",
    "\n",
    "fig_minst.suptitle('Minimum spanning tree, L={}'.format(n_minst))"
   ]
  },
  {
   "cell_type": "code",
   "execution_count": null,
   "metadata": {},
   "outputs": [],
   "source": [
    "# Save the figure in the current directory\n",
    "fig_minst.savefig('air_traffic_minst.pdf')"
   ]
  },
  {
   "cell_type": "code",
   "execution_count": null,
   "metadata": {
    "deletable": false,
    "nbgrader": {
     "cell_type": "code",
     "checksum": "be65160a6d411d88a080d61bcf4de49a",
     "grade": true,
     "grade_id": "cell-630daa7017d08f83",
     "locked": false,
     "points": 0,
     "schema_version": 3,
     "solution": true,
     "task": false
    },
    "tags": []
   },
   "outputs": [],
   "source": [
    "fig_maxst, ax_maxst = plt.subplots(figsize=(8, 5))\n",
    "n_maxst = 0 # REPLACE! number of links in maximum spanning tree\n",
    "\n",
    "# TODO: Obtain the maximum spanning tree and plot it on ax_maxst\n",
    "# Your solution here\n",
    "# YOUR CODE HERE\n",
    "maxst = nx.maximum_spanning_tree(net)\n",
    "n_maxst = minst.number_of_edges()\n",
    "visualize_US_network(ax_maxst, maxst, xycoords, bg_figname)\n",
    "\n",
    "fig_maxst.suptitle('Maximum spanning tree, L={}'.format(n_maxst))"
   ]
  },
  {
   "cell_type": "code",
   "execution_count": null,
   "metadata": {},
   "outputs": [],
   "source": [
    "# Save the figure in the current directory\n",
    "fig_maxst.savefig('air_traffic_maxst.pdf')"
   ]
  },
  {
   "cell_type": "markdown",
   "metadata": {},
   "source": [
    "### d. Thresholded networks\n",
    "**Threshold** and **visualize** the network so that only the strongest $M$ links remain in it, where $M = N - 1$ is the number of links in the maximal spanning tree. Then, **answer** following questions:\n",
    "- How many links does the thresholded network share with the maximal spanning tree?\n",
    "- Given this number and the visualizations, does simple thresholding yield a network similar to the maximum spanning tree?\n",
    "\n",
    "**Hint**: Note that the network is undirected, which means that edge $(i, j)$ is the same as edge $(j, i)$. When comparing the set of edges, however, the order of the nodes in the edge tuple matters. Make sure that each edge is represented consistently across the two networks when comparing them."
   ]
  },
  {
   "cell_type": "code",
   "execution_count": null,
   "metadata": {
    "deletable": false,
    "nbgrader": {
     "cell_type": "code",
     "checksum": "5a960b97bf46796b0c20e2cd627613c6",
     "grade": true,
     "grade_id": "cell-3fc7e3fa04256328",
     "locked": false,
     "points": 0,
     "schema_version": 3,
     "solution": true,
     "task": false
    }
   },
   "outputs": [],
   "source": [
    "fig_thr, ax_thr = plt.subplots(figsize=(8, 5))\n",
    "\n",
    "# TODO: Obtain the thresholded network and visualize it\n",
    "# Then calculate the number of common links between the thresholded network and the maximum spanning tree\n",
    "# This can be done, e.g., by storing the links of both in a set and using the intersection method\n",
    "\n",
    "common=set() # Write your code so that this variable will contain the edges in both networks (thresholded, spanning tree)\n",
    "\n",
    "# YOUR CODE HERE\n",
    "M = maxst.number_of_edges()\n",
    "\n",
    "edges_sorted = sorted(net.edges(data=True), key=lambda x: x[2]['weight'], reverse=True)\n",
    "thresholded_edges = edges_sorted[:M]\n",
    "\n",
    "G_thr = nx.Graph()\n",
    "G_thr.add_edges_from([(u, v) for u, v, w in thresholded_edges])\n",
    "\n",
    "visualize_US_network(ax_thr, G_thr, xycoords, bg_figname)\n",
    "\n",
    "common = set(G_thr.edges()).intersection(set(maxst.edges()).union(set([(v, u) for u, v in maxst.edges()])))\n",
    "\n",
    "print(\"Number of common edges with MaxST:\", len(common))\n",
    "print(\"{:.1f} % of links are the same.\".format((len(common) * 100.0) / n_maxst))\n",
    "\n",
    "fig_thr.suptitle('{} ({:.1f} %) strongest links of the original network'\\\n",
    "    .format(n_maxst, (n_maxst * 100.0) / L))"
   ]
  },
  {
   "cell_type": "code",
   "execution_count": null,
   "metadata": {},
   "outputs": [],
   "source": [
    "# Save the figure in the current directory\n",
    "fig_thr.savefig('air_traffic_thresholded.pdf')"
   ]
  },
  {
   "cell_type": "code",
   "execution_count": null,
   "metadata": {},
   "outputs": [],
   "source": []
  },
  {
   "cell_type": "code",
   "execution_count": null,
   "metadata": {},
   "outputs": [],
   "source": []
  }
 ],
 "metadata": {
  "kernelspec": {
   "display_name": "Python 3",
   "language": "python",
   "name": "python3"
  },
  "language_info": {
   "codemirror_mode": {
    "name": "ipython",
    "version": 3
   },
   "file_extension": ".py",
   "mimetype": "text/x-python",
   "name": "python",
   "nbconvert_exporter": "python",
   "pygments_lexer": "ipython3",
   "version": "3.10.12"
  }
 },
 "nbformat": 4,
 "nbformat_minor": 4
}
