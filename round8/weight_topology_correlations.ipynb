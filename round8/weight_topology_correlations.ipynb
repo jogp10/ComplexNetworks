{
 "cells": [
  {
   "cell_type": "markdown",
   "metadata": {
    "deletable": false,
    "editable": false,
    "nbgrader": {
     "cell_type": "markdown",
     "checksum": "781936b4f221357d568802c6ee91ceed",
     "grade": false,
     "grade_id": "cell-2f7d49e6bc20ba56",
     "locked": true,
     "schema_version": 3,
     "solution": false,
     "task": false
    }
   },
   "source": [
    "# Social networks, social signatures, and weight-topology correlations\n",
    "\n",
    "In this exercise, we study a social network data set on private messaging on a Facebook-like web page (Data originally from http://toreopsahl.com/datasets/). In this weighted network, each node corresponds to a user, and the weight of a link quantifies the total number of messages exchanged between the two connected users. \n",
    "\n",
    "The edge list file `OClinks_w_undir.edg` has three entries per each row:\n",
    "`(node_i node_j w_ij)`, \n",
    "where `w_ij` is the weight of the link between nodes `node_i` and `node_j`.\n",
    "\n",
    "Below, you'll find some predefined functions that are useful in this exercise. In most cases, you do not need to modify these functions (but do inspect them to get an idea of what they do so that you can use them in your code). "
   ]
  },
  {
   "cell_type": "code",
   "execution_count": null,
   "metadata": {
    "deletable": false,
    "editable": false,
    "nbgrader": {
     "cell_type": "code",
     "checksum": "fe7e0569c1398bcc439539400cb0e6ac",
     "grade": false,
     "grade_id": "cell-e5d677448e05a94a",
     "locked": true,
     "schema_version": 3,
     "solution": false,
     "task": false
    }
   },
   "outputs": [],
   "source": [
    "import matplotlib.pyplot as plt\n",
    "import numpy as np\n",
    "import networkx as nx\n",
    "from scipy.stats import binned_statistic"
   ]
  },
  {
   "cell_type": "code",
   "execution_count": null,
   "metadata": {
    "deletable": false,
    "editable": false,
    "nbgrader": {
     "cell_type": "code",
     "checksum": "257c7aa8828c4787e5076983cd9eea7d",
     "grade": false,
     "grade_id": "cell-8b6db9c60f339159",
     "locked": true,
     "schema_version": 3,
     "solution": false,
     "task": false
    },
    "tags": []
   },
   "outputs": [],
   "source": [
    "def create_linbins(start, end, n_bins): # NO NEED TO MODIFY THIS\n",
    "    \"\"\"\n",
    "    Creates a set of linear bins.\n",
    "\n",
    "    Parameters\n",
    "    -----------\n",
    "    start: minimum value of data, int\n",
    "    end: maximum value of data, int\n",
    "    n_bins: number of bins, int\n",
    "\n",
    "    Returns\n",
    "    --------\n",
    "    bins: a list of linear bin edges\n",
    "    \"\"\"\n",
    "    bins = np.linspace(start, end, n_bins)\n",
    "    return bins"
   ]
  },
  {
   "cell_type": "code",
   "execution_count": null,
   "metadata": {
    "deletable": false,
    "editable": false,
    "nbgrader": {
     "cell_type": "code",
     "checksum": "25c543b942a4c616c50e0e92fc301cef",
     "grade": false,
     "grade_id": "cell-4fe0181bc52b7cc7",
     "locked": true,
     "schema_version": 3,
     "solution": false,
     "task": false
    }
   },
   "outputs": [],
   "source": [
    "def create_logbins(start, end, n_log, n_lin=0): # NO NEED TO MODIFY THIS\n",
    "    \"\"\"\n",
    "    Creates a combination of linear and logarithmic bins: n_lin linear bins \n",
    "    of width 1 starting from start and n_log logarithmic bins further to\n",
    "    max.\n",
    "\n",
    "    Parameters\n",
    "    -----------\n",
    "    start: starting point for linear bins, float\n",
    "    end: maximum value of data, int\n",
    "    n_log: number of logarithmic bins, int\n",
    "    n_lin: number of linear bins, int\n",
    "\n",
    "    Returns\n",
    "    -------\n",
    "    bins: a list of bin edges\n",
    "    \"\"\"\n",
    "    if n_lin == 0:\n",
    "        bins = np.geomspace(start, end, num=n_log+1)\n",
    "    elif n_lin > 0:\n",
    "        bins = np.array([start + i for i in range(n_lin)] \n",
    "                        + list(np.geomspace(start + n_lin, end, n_log+1)))\n",
    "    return bins"
   ]
  },
  {
   "cell_type": "code",
   "execution_count": null,
   "metadata": {
    "deletable": false,
    "editable": false,
    "nbgrader": {
     "cell_type": "code",
     "checksum": "cd8bbad83239f10288bbca2ba4ea8b7d",
     "grade": false,
     "grade_id": "cell-bb4e5654d27220a3",
     "locked": true,
     "schema_version": 3,
     "solution": false,
     "task": false
    }
   },
   "outputs": [],
   "source": [
    "# Select data directory\n",
    "import os\n",
    "if os.path.isdir('/coursedata'):\n",
    "    course_data_dir = '/coursedata'\n",
    "elif os.path.isdir('../data'):\n",
    "    course_data_dir = '../data'\n",
    "else:\n",
    "    # Specify course_data_dir on your machine\n",
    "    course_data_dir = '.'\n",
    "\n",
    "print('The data directory is %s' % course_data_dir)\n",
    "\n",
    "network_path = os.path.join(course_data_dir, 'OClinks_w_undir.edg')"
   ]
  },
  {
   "cell_type": "markdown",
   "metadata": {
    "deletable": false,
    "editable": false,
    "nbgrader": {
     "cell_type": "markdown",
     "checksum": "0f78423154179106697726deaace8a57",
     "grade": false,
     "grade_id": "cell-15cf3d1fca11bf11",
     "locked": true,
     "schema_version": 3,
     "solution": false,
     "task": false
    }
   },
   "source": [
    "### a) Degrees, weights, and node strengths (2 pts)\n",
    "\n",
    "Let us first read the weighted edgelist into a NetworkX graph and extract the node degrees, strengths, and edge weights because we'll need these below. Modify the code below so that it extracts the three lists. The code then computes their minimal and maximal values. Use these to answer the MyCourses quiz. \n",
    "\n",
    "**Coding hints**:\n",
    "\n",
    "- if `network`is a `nx.Graph`object, you can iterate over its nodes through the iterable object `network.nodes()` and its edges through `network.edges()`. \n",
    "\n",
    "- `network.degree(node)` yields the degree of `node` (which can come from the above iterable), and `network.degree(node,weight='weight')` yields the node's strength (=sum of the weights of its links).  \n",
    "- If you iterate over the edges with the following parameter: `network.edges(data='weight')`, each iteration yields three values, `node_i`,`node_j`,`weight_ij`. \n",
    "\n"
   ]
  },
  {
   "cell_type": "code",
   "execution_count": null,
   "metadata": {
    "deletable": false,
    "nbgrader": {
     "cell_type": "code",
     "checksum": "5d1b23c60c0d73e9e8731c669c06f726",
     "grade": true,
     "grade_id": "cell-cef07307789ec4f3",
     "locked": false,
     "points": 0,
     "schema_version": 3,
     "solution": true,
     "task": false
    }
   },
   "outputs": [],
   "source": [
    "# First read in the data (modify the path in the code snippet above)\n",
    "network = nx.read_weighted_edgelist(network_path)\n",
    "\n",
    "# TODO: Get the node degrees and strengths\n",
    "degrees = []\n",
    "strengths = []\n",
    "weights = []\n",
    "\n",
    "# YOUR CODE HERE\n",
    "for node in network.nodes():\n",
    "    degrees.append(network.degree(node))\n",
    "    strengths.append(network.degree(node, weight='weight'))\n",
    "\n",
    "for edge in network.edges(data='weight'):\n",
    "    weights.append(edge[2])\n",
    "\n",
    "print('Minimum degree: {}'.format(min(degrees)))\n",
    "print('Maximum degree: {}'.format(max(degrees)))\n",
    "print('Minimum strength: {}'.format(min(strengths)))\n",
    "print('Maximum strength: {}'.format(max(strengths)))\n",
    "print('Minimum weight: {}'.format(min(weights)))\n",
    "print('Maximum weight: {}'.format(max(weights)))"
   ]
  },
  {
   "cell_type": "markdown",
   "metadata": {},
   "source": [
    "### b) Complementary cumulative distribution functions (2 pts)\n",
    "\n",
    "Next, we'll look at how the degrees, strengths, and edge weights are distributed.  To this end, we will plot their complementary cumulative distributions (CCDFs) — recall that a CCDF $P(X > x)$ is defined as the fraction of data points whose values are larger $x$, as a function of this $x$. \n",
    "\n",
    "Your next task is to write the function, `plot_ccdf`, that lets you generate plots of CCDFs. Its key input is `datavec`, which is simply a list of the data points whose CCDF you want to plot. For the rest, see the documentation, and also the code block below.\n",
    "\n",
    "When your plotting function is complete, complete the block of code below it. Your goal is to plot the CCDFs of all three variables — degrees, strengths, and edge weights — in a single plot.For comparison, also plot exponential distributions with the same means. Recall that the CCDF of an exponential distribution with mean $\\mu$ is given by $\\exp(-x / \\mu)$.\n",
    "\n",
    "Inspect your plot and answer the MyCourses quiz questions.\n",
    "\n",
    "**Coding hints**:\n",
    "\n",
    "For the CCDF, first sort the list containing the data points from the smallest to the largest. Then, for each data point $x$, compute the fraction of data points larger than it (this is quite simple, just consider how long your list is and how long the remaining list with values higher than $x$ is). Your CCDF is now just two lists: the sorted values and the fractions of values above each sorted value. \n",
    "\n",
    "As a sanity check, please note that $P(X > x)$ is always a non-increasing function of $x$ because if you compare two values $x_1$ and $x_2$ where $x_1 > x_2$, you never find more data points above $x_1$ than above $x_2$."
   ]
  },
  {
   "cell_type": "code",
   "execution_count": null,
   "metadata": {
    "deletable": false,
    "nbgrader": {
     "cell_type": "code",
     "checksum": "634512b20be9aa062d1cba77a57bbde4",
     "grade": true,
     "grade_id": "cell-c92d54d6c49cc06d",
     "locked": false,
     "points": 0,
     "schema_version": 3,
     "solution": true,
     "task": false
    }
   },
   "outputs": [],
   "source": [
    "def plot_ccdf(datavec, label, linestyle, color, ax):\n",
    "    \"\"\"\n",
    "    Plots the complementary cumulative distribution function (CCDF) of the input data.\n",
    "    \n",
    "    Parameters\n",
    "    -----------\n",
    "    datavec: a list of data points\n",
    "    label: str, label for the legend\n",
    "    linestyle: str, style of the line\n",
    "    color: str, color of the line\n",
    "    ax: axis object where to plot using ax.plot(xdata,ydata,linestyle=linestyle,color=color,label=label)\n",
    "    \"\"\"\n",
    "    # TODO: Calculate the CCDF of the datavec and plot it\n",
    "    # YOUR CODE HERE\n",
    "    datavec = np.sort(datavec)\n",
    "    ccdf = 1 - np.linspace(0, 1, len(datavec))\n",
    "\n",
    "    ax.plot(datavec, ccdf, linestyle=linestyle, color=color, label=label)\n",
    "    return ax\n"
   ]
  },
  {
   "cell_type": "code",
   "execution_count": null,
   "metadata": {
    "deletable": false,
    "nbgrader": {
     "cell_type": "code",
     "checksum": "762de7ce8ab7b07fd16d35b3e0c26f7b",
     "grade": true,
     "grade_id": "cell-bf71a819f8d209e8",
     "locked": false,
     "points": 0,
     "schema_version": 3,
     "solution": true,
     "task": false
    }
   },
   "outputs": [],
   "source": [
    "# Let us plot the empirical CCDFs\n",
    "datavecs = [degrees, strengths, weights]\n",
    "styles = ['-'] * 3\n",
    "colors = ['tab:blue', 'tab:orange', 'tab:green']\n",
    "labels = ['degree', 'strength', 'weight']\n",
    "xlabel = 'degree/strength/weight'\n",
    "ylabel = 'CCDF'\n",
    "\n",
    "fig_ccdf, ax_ccdf = plt.subplots(figsize=(8, 6))\n",
    "for datavec, label, style, color in zip(datavecs, labels, styles, colors):\n",
    "    ax_ccdf = plot_ccdf(datavec, label, style, color, ax_ccdf)\n",
    "\n",
    "max_degree = 0\n",
    "max_strength = 0\n",
    "max_weight = 0\n",
    "\n",
    "# TODO: Get the maximum degree, maximum strength, and maximum weight\n",
    "# YOUR CODE HERE\n",
    "max_degree = max(degrees)\n",
    "max_strength = max(strengths)\n",
    "max_weight = max(weights)\n",
    "\n",
    "mean_degree = 0\n",
    "mean_strength = 0\n",
    "mean_weight = 0\n",
    "\n",
    "# TODO: Get the mean degree, mean strength, and mean weight\n",
    "# YOUR CODE HERE\n",
    "mean_degree = np.mean(degrees)\n",
    "mean_strength = np.mean(strengths)\n",
    "mean_weight = np.mean(weights)\n",
    "\n",
    "# Now let us plot the exponential counterparts\n",
    "labels_for_exp = ['exponential degree', 'exponential strength', 'exponential weight']\n",
    "maxima = [max_degree, max_strength, max_weight]\n",
    "means = [mean_degree, mean_strength, mean_weight]\n",
    "\n",
    "# TODO: Define the CCDF of an exponential distribution with mean mu\n",
    "def ccdf_exp(x, mu):\n",
    "    # YOUR CODE HERE\n",
    "    return np.exp(-x / mu)\n",
    "\n",
    "for mean, maximum, label, color in zip(means, maxima, labels_for_exp, colors):\n",
    "    x = np.geomspace(1, maximum, num=100)\n",
    "    ax_ccdf.plot(x, ccdf_exp(x, mean), linestyle='--', color=color, label=label)\n",
    "\n",
    "# Use the loglog scale\n",
    "ax_ccdf.set_xscale('log')\n",
    "ax_ccdf.set_yscale('log')\n",
    "\n",
    "ax_ccdf.set_xlabel(xlabel)\n",
    "ax_ccdf.set_ylabel(ylabel)\n",
    "ax_ccdf.legend()\n",
    "ax_ccdf.set_ylim(bottom=2E-5, top=2)\n",
    "ax_ccdf.grid()"
   ]
  },
  {
   "cell_type": "code",
   "execution_count": null,
   "metadata": {},
   "outputs": [],
   "source": [
    "# Save the figure in the current directory\n",
    "fig_ccdf.savefig('ccdfs.pdf', bbox_inches='tight')"
   ]
  },
  {
   "cell_type": "markdown",
   "metadata": {
    "deletable": false,
    "editable": false,
    "nbgrader": {
     "cell_type": "markdown",
     "checksum": "bb76932645b04edeb5c464320f94d4a3",
     "grade": false,
     "grade_id": "cell-52c85a234f7d87e3",
     "locked": true,
     "schema_version": 3,
     "solution": false,
     "task": false
    }
   },
   "source": [
    "#### c) Average link weight per node (4 pts)\n",
    "Next, we will study how the average link weight per node $\\langle w \\rangle =\\frac{s}{k}$ behaves as a function of the node degree $k$. \n",
    "\n",
    "i) **Compute** $s$, $k$, and $\\langle w \\rangle = \\frac{s}{k}$ for each node.\n",
    "\n",
    "ii) Generate a **scatter plot** of all the data points of $\\langle w \\rangle$ as a function of $k$. Create two versions of the plots: one with linear and one with logarithmic $x$-axis.\n",
    "\n",
    "iii) The large variance of the data can make the scatter plots a bit messy. To make the relationship between $\\langle w \\rangle$ and $k$ more visible, **generate** bin-averaged versions of the plots, i.e., divide nodes into bins based on their degree and calculate the average $\\langle w \\rangle$ in each bin. Plot the bin-averaged versions on top of the scatter plots.\n",
    "\n",
    "Use the results of i)-iii) to answer the questions in the MyCourses quiz.\n",
    "\n",
    "**Hints**:\n",
    "- A good choice for the number of bins in this case would be around 20.\n",
    "\n",
    "- In the bin-averaged plot, the size of the points represents the number of nodes in each bin. An unbalanced distribution of observations, where some bins have far more points than others, may obscure the results.\n",
    "\n",
    "- `scipy.stats.binned_statistic` function is especially useful for answering this and the next questions."
   ]
  },
  {
   "cell_type": "code",
   "execution_count": null,
   "metadata": {
    "deletable": false,
    "nbgrader": {
     "cell_type": "code",
     "checksum": "50a31514c8c4c77fc8f7a4de4ad32ce9",
     "grade": true,
     "grade_id": "cell-a34843aaf01c3866",
     "locked": false,
     "points": 0,
     "schema_version": 3,
     "solution": true,
     "task": false
    }
   },
   "outputs": [],
   "source": [
    "def bin_averaged_plot(x, y, bins, ax):\n",
    "    \"\"\"\n",
    "    Plots the bin-averaged values of y as a function of x.\n",
    "\n",
    "    Parameters\n",
    "    -----------\n",
    "    x: x values, list or numpy array\n",
    "    y: y values, list or numpy array\n",
    "    bins: bin edges of x, list or numpy array\n",
    "    xlabel: x label for the figure, string\n",
    "    ylabel: y label for the figure, string\n",
    "    ax: axis object where to plot, None or axis object\n",
    "    \"\"\"\n",
    "    # bin-averaged values of x\n",
    "    x_bin_averages, _, _ = binned_statistic(x, x, statistic='mean', bins=bins)\n",
    "\n",
    "    # TODO: Use binned_statistic to calculate the bin-averaged values of y. \n",
    "    # see https://docs.scipy.org/doc/scipy/reference/generated/scipy.stats.binned_statistic.html\n",
    "    \n",
    "    # YOUR CODE HERE\n",
    "\n",
    "    # Count the number of values in each bin.\n",
    "    # This is used to calculate the size of the scatter points\n",
    "    counts, _, _ = binned_statistic(x, x, statistic='count', bins=bins)\n",
    "\n",
    "    y_bin_averages, _, _ = binned_statistic(x, y, statistic='mean', bins=bins)\n",
    "    \n",
    "    # Plot the bin-averaged values\n",
    "    ax.scatter(x_bin_averages, y_bin_averages, marker='o', color='r', \n",
    "               s=2*np.sqrt(counts), label='bin averages')\n",
    "    return ax\n"
   ]
  },
  {
   "cell_type": "code",
   "execution_count": null,
   "metadata": {
    "deletable": false,
    "nbgrader": {
     "cell_type": "code",
     "checksum": "cbf0af7ba0be58c685fe922989a129c0",
     "grade": true,
     "grade_id": "cell-d3b8aec2ffce4c65",
     "locked": false,
     "points": 0,
     "schema_version": 3,
     "solution": true,
     "task": false
    }
   },
   "outputs": [],
   "source": [
    "# average link weight per node (list or numpy array)\n",
    "av_weight = []\n",
    "#TODO: generate a list whose entries are average link weights (=strength/degree) of each node\n",
    "# YOUR CODE HERE\n",
    "av_weight = [strengths[i] / degrees[i] for i in range(len(degrees))]\n",
    "\n",
    "print(\"The largest average weight is \"+str(max(av_weight)))\n",
    "\n",
    "n_bins = 20\n",
    "n_lin = 5\n",
    "min_deg = min(degrees)\n",
    "max_deg = max(degrees)\n",
    "\n",
    "# Create linear and log bins \n",
    "linbins = create_linbins(min_deg, max_deg, n_bins)\n",
    "logbins = create_logbins(min_deg, max_deg, n_log=n_bins-n_lin, n_lin=n_lin)\n",
    "\n",
    "# Uncomment if you wish to take a look at the logarithmic bins\n",
    "print(logbins)"
   ]
  },
  {
   "cell_type": "code",
   "execution_count": null,
   "metadata": {
    "deletable": false,
    "nbgrader": {
     "cell_type": "code",
     "checksum": "509ac0f0baa64000750fafe530b9754a",
     "grade": true,
     "grade_id": "cell-adbc6f7e266a4e3b",
     "locked": false,
     "points": 0,
     "schema_version": 3,
     "solution": true,
     "task": false
    }
   },
   "outputs": [],
   "source": [
    "alpha = 0.1 # transparency of data points in the scatter\n",
    "\n",
    "# For each of the linear and logarithmic versions, the full scatter plot and \n",
    "# the bin-averaged plot should be shown in one figure.\n",
    "\n",
    "for bins, scale in zip([linbins, logbins], ['linear', 'log']):\n",
    "    fig, ax = plt.subplots(figsize=(6, 4))\n",
    "\n",
    "    # Scatter plot all data points on ax\n",
    "    ax.scatter(degrees, av_weight, marker='o', color='k', s=1.5, alpha=alpha)\n",
    "\n",
    "    # Plot the bin-averaged values on ax\n",
    "    ax = bin_averaged_plot(degrees, av_weight, bins, ax)\n",
    "    \n",
    "    ax.set_xscale(scale)\n",
    "    # TODO: Set appropriate labels using ax.set_xlabel('your_label_here'), ax.set_ylabel('your label here')\n",
    "\n",
    "    # YOUR CODE HERE\n",
    "    ax.set_xlabel('degree')\n",
    "    ax.set_ylabel('average link weight')\n",
    "    \n",
    "    ax.set_ylim(bottom=0.0)\n",
    "    ax.grid()\n",
    "\n",
    "    ax.legend(loc='best')\n",
    "    ax.set_title('avg. link weight vs. degree')\n"
   ]
  },
  {
   "cell_type": "code",
   "execution_count": null,
   "metadata": {},
   "outputs": [],
   "source": [
    "# Save the figure in the current directory\n",
    "fig.savefig('avg_weight_vs_degree.pdf', bbox_inches='tight')"
   ]
  },
  {
   "cell_type": "markdown",
   "metadata": {},
   "source": [
    "### d) Social signatures of egocentric networks\n",
    "\n",
    "Next, we will study the social signatures of egocentric networks. The social signature of a node is a vector that describes the distribution of link weights in the egocentric network of the node. We define the social signature of node $i$ with degree $k_i$ as\n",
    "$$\n",
    "\\mathbf{p}_i = \\left( p_{i,1}, p_{i,2}, \\ldots, p_{i,k_i} \\right), \\quad p_{i, 1} \\geq p_{i, 2} \\geq \\ldots \\geq p_{i, k_i},\n",
    "$$\n",
    "where $p_{i,j}$ is the weight of the $j$-th link (sorted in descending order of weight) incident to node $i$, normalized by the sum of the weights of all links incident to $i$ (i.e., the strength of node $i$) :\n",
    "$$\n",
    "p_{i,j} = \\frac{w_{i,j}}{\\sum_{j=1}^{k_i} w_{i,j}}.\n",
    "$$\n",
    "\n",
    "Here, your task is to **compute** the social signatures of the nodes in the network that have degree $k_i = 25$ and **plot** the signatures $p_{i, j}$ as a function of rank $j$."
   ]
  },
  {
   "cell_type": "code",
   "execution_count": null,
   "metadata": {
    "deletable": false,
    "nbgrader": {
     "cell_type": "code",
     "checksum": "73dc91bcd29d2a5b68ce88680fc6597e",
     "grade": true,
     "grade_id": "cell-23c2f164f5d6d9c7",
     "locked": false,
     "points": 0,
     "schema_version": 3,
     "solution": true,
     "task": false
    }
   },
   "outputs": [],
   "source": [
    "def social_signature(G, node):\n",
    "    \"\"\"Calculate the social signature of a node in a network.\n",
    "\n",
    "    Parameters\n",
    "    ----------\n",
    "    G : NetworkX graph\n",
    "        The network of interest\n",
    "    node : int\n",
    "        The node of interest\n",
    "\n",
    "    Returns\n",
    "    -------\n",
    "    signature : np.ndarray\n",
    "        The social signature of the node, i.e., the tie strengths between \n",
    "        the node and its neighbors, normalized by the sum and sorted in \n",
    "        descending order, from the largest tie strength to the smallest tie strength.\n",
    "    \"\"\"\n",
    "    signature = np.array([]) # REPLACE!\n",
    "\n",
    "    # hint: to get the link weights of \"node\" in graph G, use G[node].values() and the attribute 'weight' (x['weight'] for x in G[node].values()])\n",
    "    # for sorting, see, e.g., https://docs.python.org/3/howto/sorting.html\n",
    "    \n",
    "    # YOUR CODE HERE\n",
    "    neighbors = G.neighbors(node)\n",
    "    signature = np.array([G[node][neighbor]['weight'] for neighbor in neighbors])\n",
    "    signature = signature / np.sum(signature)\n",
    "    signature = np.sort(signature)[::-1]\n",
    "    return signature"
   ]
  },
  {
   "cell_type": "code",
   "execution_count": null,
   "metadata": {
    "deletable": false,
    "nbgrader": {
     "cell_type": "code",
     "checksum": "8c1184ef8ea2cf40952bb31464ceb7d4",
     "grade": true,
     "grade_id": "cell-251a5ef53e222765",
     "locked": false,
     "points": 0,
     "schema_version": 3,
     "solution": true,
     "task": false
    },
    "tags": []
   },
   "outputs": [],
   "source": [
    "nodes_k = []\n",
    "# TODO: Get all the nodes with degree 25 and store them in nodes_k\n",
    "# YOUR CODE HERE\n",
    "nodes_k = [node for node in network.nodes() if network.degree(node) == 25]\n",
    "\n",
    "print(\"Found \"+str(len(nodes_k))+\" nodes of degree 25\")\n",
    "\n",
    "# Plot social signatures of nodes with degree 25\n",
    "\n",
    "largest_top_fraction=-1\n",
    "\n",
    "fig_signature, ax_signature = plt.subplots(figsize=(6, 6))\n",
    "for node in nodes_k:\n",
    "    signature = social_signature(network, node)\n",
    "    rank = np.arange(1, len(signature) + 1)\n",
    "    ax_signature.plot(rank, signature, 'o-', alpha=0.6)\n",
    "\n",
    "    if signature[0]>largest_top_fraction:\n",
    "            largest_top_fraction=signature[0]\n",
    "        \n",
    "ax_signature.set_yscale('log')\n",
    "ax_signature.set_ylim(top=1)\n",
    "ax_signature.set_xlabel('Neighbor rank')\n",
    "ax_signature.set_ylabel('Fraction of tie strength')\n",
    "\n",
    "print('Largest fraction of weight at rank 1: '+str(largest_top_fraction))"
   ]
  },
  {
   "cell_type": "code",
   "execution_count": null,
   "metadata": {},
   "outputs": [],
   "source": [
    "# Save the figure in the current directory\n",
    "fig_signature.savefig('social_signatures_rnd.png', dpi=300, bbox_inches='tight')"
   ]
  },
  {
   "cell_type": "markdown",
   "metadata": {
    "deletable": false,
    "editable": false,
    "nbgrader": {
     "cell_type": "markdown",
     "checksum": "8e9ab61939469598f1a340c70b4e023d",
     "grade": false,
     "grade_id": "cell-c218190e96ddd99d",
     "locked": true,
     "schema_version": 3,
     "solution": false,
     "task": false
    }
   },
   "source": [
    "### e) Link neighborhood overlap (4 pts)\n",
    "Let's consider a link between nodes $i$ and $j$. For this link, the *link neighborhood overlap* $O_{ij}$ is defined as the fraction of common neighbors of $i$ and $j$ out of all their neighbors: $O_{ij}=\\frac{n_{ij}}{\\left(k_i-1\\right)+\\left(k_j-1\\right)-n_{ij}}.$\n",
    "\n",
    "Your task is to calculate the link overlap for all links in the data and investigate how it behaves as a function of link weight. \n",
    "\n",
    "- **Calculate** the link neighborhood overlap for each link. To do this, you must modify the `get_link_overlap` function.\n",
    "\n",
    "- Create a **scatter plot** showing the overlaps as a function of link weight.\n",
    "\n",
    "- As in c), **produce** a bin-averaged version of the plot on top of the scatter plot. Use the binning strategy (linear or logarithmic) most suitable for this case. A reasonable number of bins would be between 10 and 30. \n",
    "\n",
    "**Coding hints**:\n",
    "\n",
    "- To extract the common neighbors of two nodes, you can use the `set` datatype and the `intersection()` method.\n",
    "\n",
    "- A naive implementation of the above definition of $O_{ij}$ will result in ZeroDivisionError for some links. Examine for what kind of links this happens. What would be the appropriate way to define $O_{ij}$ for those links?\n",
    " "
   ]
  },
  {
   "cell_type": "code",
   "execution_count": null,
   "metadata": {
    "deletable": false,
    "nbgrader": {
     "cell_type": "code",
     "checksum": "d3b643596cf503d13de8ccf99fd77993",
     "grade": true,
     "grade_id": "cell-4aaccdb57e0ea06a",
     "locked": false,
     "points": 0,
     "schema_version": 3,
     "solution": true,
     "task": false
    }
   },
   "outputs": [],
   "source": [
    "def get_link_overlap(net):\n",
    "    \"\"\"\n",
    "    Calculates link overlap: \n",
    "    O_ij = n_ij / [(k_i - 1) + (k_j - 1) - n_ij]\n",
    "\n",
    "    Parameters\n",
    "    -----------\n",
    "    net: a networkx.Graph() object\n",
    "\n",
    "    Returns\n",
    "    --------\n",
    "    overlaps: list of link overlaps in net\n",
    "    \"\"\"\n",
    "\n",
    "    # TODO: write a function to calculate link neighborhood overlap\n",
    "    overlaps = []\n",
    "    # YOUR CODE HERE\n",
    "    for edge in net.edges():\n",
    "        node_i = edge[0]\n",
    "        node_j = edge[1]\n",
    "        neighbors_i = set(net.neighbors(node_i))\n",
    "        neighbors_j = set(net.neighbors(node_j))\n",
    "        n_ij = len(neighbors_i.intersection(neighbors_j))\n",
    "        k_i = len(neighbors_i)\n",
    "        k_j = len(neighbors_j)\n",
    "        if ((k_i - 1) + (k_j - 1) - n_ij) == 0:\n",
    "            overlaps.append(0)\n",
    "        else:\n",
    "            overlaps.append(n_ij / ((k_i - 1) + (k_j - 1) - n_ij))\n",
    "    return overlaps"
   ]
  },
  {
   "cell_type": "code",
   "execution_count": null,
   "metadata": {
    "deletable": false,
    "nbgrader": {
     "cell_type": "code",
     "checksum": "04430de5e3b3ab2c0460166d1c51b1e6",
     "grade": true,
     "grade_id": "cell-b093fb985a26a47b",
     "locked": false,
     "points": 0,
     "schema_version": 3,
     "solution": true,
     "task": false
    }
   },
   "outputs": [],
   "source": [
    "overlaps = get_link_overlap(network)\n",
    "\n",
    "print('The largest link overlap is '+str(max(overlaps)))\n",
    "\n",
    "alpha = 0.1 # transparency of data points in the scatter\n",
    "\n",
    "n_bins = 0 # REPLACE!\n",
    "# TODO: Change the number of bins to a number you find reasonable\n",
    "# YOUR CODE HERE\n",
    "n_bins = 10\n",
    "n_lin = 5\n",
    "min_w = np.min(weights)\n",
    "max_w = np.max(weights)\n",
    "\n",
    "linbins = create_linbins(min_w, max_w, n_bins)\n",
    "logbins = create_logbins(min_w, max_w, n_log=n_bins-n_lin, n_lin=n_lin)\n",
    "\n",
    "# TODO: try both linear and logarithmic bins, select the better one (bins=logbins and scale='log' or bins=linbins and scale='lin')\n",
    "bins = []\n",
    "scale = ''\n",
    "# YOUR CODE HERE\n",
    "\n",
    "bins = linbins\n",
    "scale = 'log'\n",
    "\n",
    "# creating link neighborhood overlap scatter\n",
    "fig_lno, ax_lno = plt.subplots()\n",
    "\n",
    "ax_lno.scatter(weights, overlaps, marker='o', color='k', s=1.5, alpha=alpha)\n",
    "ax_lno = bin_averaged_plot(weights, overlaps, bins, ax_lno)\n",
    "ax_lno.set_xscale(scale)\n",
    "ax_lno.set_yscale('log')\n",
    "ax_lno.set_ylim(bottom=0.01)\n",
    "ax_lno.grid()\n",
    "\n",
    "#TODO: Set appropriate labels\n",
    "ax_lno.set_xlabel(' ')\n",
    "ax_lno.set_ylabel(' ')\n",
    "\n",
    "# YOUR CODE HERE\n",
    "ax_lno.set_xlabel('weight')\n",
    "ax_lno.set_ylabel('overlap')\n",
    "\n",
    "ax_lno.text(0.95, 0.95, \"number of bins: {}\".format(n_bins),\n",
    "        horizontalalignment='right', verticalalignment='top', \n",
    "        backgroundcolor='w', transform=ax_lno.transAxes)\n",
    "\n",
    "ax_lno.set_title('Overlap vs. weight')\n"
   ]
  },
  {
   "cell_type": "code",
   "execution_count": null,
   "metadata": {},
   "outputs": [],
   "source": [
    "fname_lno = 'o_vs_w.png'\n",
    "fig_lno.savefig(fname_lno, dpi=300, bbox_inches='tight')\n",
    "print('Link neighborhood overlap scatter saved as ' + fname_lno)"
   ]
  },
  {
   "cell_type": "code",
   "execution_count": null,
   "metadata": {},
   "outputs": [],
   "source": []
  }
 ],
 "metadata": {
  "kernelspec": {
   "display_name": "Python 3",
   "language": "python",
   "name": "python3"
  },
  "language_info": {
   "codemirror_mode": {
    "name": "ipython",
    "version": 3
   },
   "file_extension": ".py",
   "mimetype": "text/x-python",
   "name": "python",
   "nbconvert_exporter": "python",
   "pygments_lexer": "ipython3",
   "version": "3.10.12"
  }
 },
 "nbformat": 4,
 "nbformat_minor": 4
}
