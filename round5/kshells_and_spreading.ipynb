{
 "cells": [
  {
   "cell_type": "markdown",
   "metadata": {
    "deletable": false,
    "editable": false,
    "nbgrader": {
     "cell_type": "markdown",
     "checksum": "222339f17f0a694516d6542bd7eeeac8",
     "grade": false,
     "grade_id": "cell-4b0a76f678962276",
     "locked": true,
     "schema_version": 3,
     "solution": false,
     "task": false
    }
   },
   "source": [
    "### K-shells and spreading\n",
    "\n",
    "In this exercise, we will investigate the k-shells for a social network: the largest connected component of a network from mobile phone calls between students in Copenhagen (source: https://www.nature.com/articles/s41597-019-0325-x). We'll first visualize the network and the k-shells, and then run a spreading process on top: think of this as, say, word-of-mouth viral marketing. We'll choose different seed nodes for the process, and see how many other nodes the spreading process reaches for seeds of different k-shell values. "
   ]
  },
  {
   "cell_type": "code",
   "execution_count": null,
   "metadata": {
    "deletable": false,
    "editable": false,
    "nbgrader": {
     "cell_type": "code",
     "checksum": "6893b19abf392c28b074eac1a3e8fb92",
     "grade": false,
     "grade_id": "cell-2ae4bcc731e16bff",
     "locked": true,
     "schema_version": 3,
     "solution": false,
     "task": false
    }
   },
   "outputs": [],
   "source": [
    "import networkx as nx\n",
    "import matplotlib.pyplot as plt\n",
    "import matplotlib.colors as mcolors\n",
    "import matplotlib.ticker as ticker\n",
    "import random\n",
    "import seaborn as sns"
   ]
  },
  {
   "cell_type": "markdown",
   "metadata": {
    "deletable": false,
    "editable": false,
    "nbgrader": {
     "cell_type": "markdown",
     "checksum": "56075689bc2989adc679e3d42f14cf92",
     "grade": false,
     "grade_id": "cell-edd9abe3d8b7b825",
     "locked": true,
     "schema_version": 3,
     "solution": false,
     "task": false
    }
   },
   "source": [
    "## Data\n",
    "Let's first load the data into a networkx graph. As usual, specify your path below."
   ]
  },
  {
   "cell_type": "code",
   "execution_count": null,
   "metadata": {},
   "outputs": [],
   "source": [
    "# Select data directory\n",
    "import os\n",
    "if os.path.isdir('/coursedata'):\n",
    "    course_data_dir = '/coursedata'\n",
    "elif os.path.isdir('../data'):\n",
    "    course_data_dir = '../data'\n",
    "else:\n",
    "    # Specify course_data_dir on your machine\n",
    "    course_data_dir = '.'\n",
    "\n",
    "print('The data directory is %s' % course_data_dir)\n",
    "\n",
    "network_fname = os.path.join(course_data_dir, 'CH_call_largest_edges.csv')"
   ]
  },
  {
   "cell_type": "markdown",
   "metadata": {
    "deletable": false,
    "editable": false,
    "nbgrader": {
     "cell_type": "markdown",
     "checksum": "01b7a56ac6af4b5d2bf5ab5040d639dd",
     "grade": false,
     "grade_id": "cell-e154d4056665d854",
     "locked": true,
     "schema_version": 3,
     "solution": false,
     "task": false
    }
   },
   "source": [
    "### a. Visualization of k-shell indices\n",
    "Next, read in the edge list and compute the k-shell indices of nodes. Use the template to visualize the network, with nodes coloured according to their k-shell index. "
   ]
  },
  {
   "cell_type": "code",
   "execution_count": null,
   "metadata": {},
   "outputs": [],
   "source": [
    "# NO NEED TO MODIFY THIS CELL. Yields colors corresponding to x (scaled between minval and maxval).\n",
    "def get_colors(value_list, cmap_name='CMRmap'):\n",
    "    # Normalize x between minval and maxval\n",
    "    norm = mcolors.Normalize(vmin=min(value_list), vmax=max(value_list))\n",
    "    \n",
    "    # Get the colormap\n",
    "    cmap = plt.get_cmap(cmap_name)\n",
    "    \n",
    "    # Map the normalized value to a color\n",
    "\n",
    "    colors = [cmap(norm(x)) for x in value_list]\n",
    "    \n",
    "    return colors"
   ]
  },
  {
   "cell_type": "code",
   "execution_count": null,
   "metadata": {
    "deletable": false,
    "nbgrader": {
     "cell_type": "code",
     "checksum": "a3382f9f311b8bc3b9920cdfefd9f0dd",
     "grade": true,
     "grade_id": "cell-79b012c9cc77482d",
     "locked": false,
     "points": 0,
     "schema_version": 3,
     "solution": true,
     "task": false
    },
    "tags": []
   },
   "outputs": [],
   "source": [
    "network=nx.Graph()\n",
    "network = nx.read_edgelist(network_fname, delimiter=',', nodetype=int)\n",
    "\n",
    "## TODO: using the ready-made networkX function for k-shells (nx.core_number), create a list node_shells of nodes' k-shell indices\n",
    "\n",
    "node_shells=None\n",
    "\n",
    "# YOUR CODE HERE\n",
    "node_shells = nx.core_number(network).values()\n",
    "\n",
    "\n",
    "# turn node shell indices directly into colours, as some versions of matplotlib cannot handle colormaps directly in nx.draw...\n",
    "\n",
    "node_colors=get_colors(node_shells)\n",
    "\n",
    "figure_title = 'Copenhagen student call network'\n",
    "fig_vis, ax_vis = plt.subplots(figsize=(8,6))\n",
    "pos=nx.spring_layout(network) # get the coordinates for reuse\n",
    "nx.draw(network, pos=pos,ax=ax_vis, \n",
    "        node_size=30, \n",
    "        node_color=node_colors, # Nodes colored according to shell indices\n",
    "        edgecolors='black', linewidths=0.8, # Controls the color and width of the node borders\n",
    "        edge_color='gray', width=1, # Controls the color and width of the edges\n",
    "        alpha=0.8\n",
    ")\n",
    "ax_vis.set_title(figure_title) # Sets the title of the figure\n",
    "sm = plt.cm.ScalarMappable(cmap=plt.cm.CMRmap, norm=plt.Normalize(vmin=min(node_shells), vmax=max(node_shells)))\n",
    "sm.set_array([])\n",
    "cbar=plt.colorbar(sm, ax=ax_vis,label=\"k-shell Index\")\n",
    "cbar.ax.yaxis.set_major_locator(ticker.MaxNLocator(integer=True))"
   ]
  },
  {
   "cell_type": "code",
   "execution_count": null,
   "metadata": {},
   "outputs": [],
   "source": [
    "figure_fname = 'Facebook_call_friendships_kshells.pdf'\n",
    "# This save the file in the same directory as this notebook is in. \n",
    "# To save it in a different directory, specify the path:\n",
    "# figure_fname = 'some_path/Facebook_call_friendships_kshells.pdf'\n",
    "fig_vis.savefig(figure_fname)"
   ]
  },
  {
   "cell_type": "markdown",
   "metadata": {
    "deletable": false,
    "editable": false,
    "nbgrader": {
     "cell_type": "markdown",
     "checksum": "41dc83e5e25768239c652ea1643e6cb3",
     "grade": false,
     "grade_id": "cell-a3eabe7cd7aa64eb",
     "locked": true,
     "schema_version": 3,
     "solution": false,
     "task": false
    }
   },
   "source": [
    "### b. Viral spreading from different seed nodes\n",
    "Next, we'll do some simulations! We will run a so-called SIR (Susceptible-Infectious-Recovered) process, where initially each node is Susceptible except for a single seed node that is Infectious. Then, on every time step, Infectious nodes infect their Susceptible neighbours with some probability and then Recover. Recovered nodes are considered immune and they cannot become Infectious any more. \n",
    "\n",
    "Use the code below to run the SIR spreading process from a random seed node and to visualize the outcome. Assume transmission probability to be 0.4. Run it more than 10 times to get an idea of the variety of outcomes, and then answer the MyCourses question.\n"
   ]
  },
  {
   "cell_type": "code",
   "execution_count": null,
   "metadata": {},
   "outputs": [],
   "source": [
    "# NO NEED TO MODIFY THIS\n",
    "\n",
    "def sir_spread(G, seed_node, transmission_prob):\n",
    "    \"\"\"\n",
    "    Simulate the SIR spreading process on a NetworkX graph. First infect seed_node,\n",
    "    then with transmission_prob each susceptible neighbour of each infected node,\n",
    "    who are infectious for one time step and then turn recovered. The process\n",
    "    stops when there are no infectious nodes left. \n",
    "    \n",
    "    Parameters:\n",
    "    - G: NetworkX Graph object\n",
    "    - seed_node: The initial node from which the infection starts\n",
    "    - transmission_prob: Probability of transmission across a link\n",
    "    \n",
    "    Returns:\n",
    "    - The set of nodes that were infected during the process\n",
    "    \"\"\"\n",
    "    # Initialize node states\n",
    "    susceptible = set(G.nodes())\n",
    "    infected = set()\n",
    "    recovered = set()\n",
    "    \n",
    "    # Start the infection from the seed node\n",
    "    if seed_node not in G.nodes():\n",
    "        raise ValueError(\"Seed node must be in the graph.\")\n",
    "    \n",
    "    susceptible.remove(seed_node)\n",
    "    infected.add(seed_node)\n",
    "        \n",
    "    while infected:\n",
    "        new_infected = set()\n",
    "        \n",
    "        # For each infected node, attempt to spread the infection\n",
    "        for node in infected:\n",
    "            neighbors = set(G.neighbors(node))\n",
    "            susceptible_neighbors = neighbors.intersection(susceptible)\n",
    "            \n",
    "            for neighbor in susceptible_neighbors:\n",
    "                if random.random() < transmission_prob:\n",
    "                    new_infected.add(neighbor)\n",
    "        \n",
    "        # Update the states of the nodes\n",
    "        recovered.update(infected)\n",
    "        susceptible.difference_update(new_infected)\n",
    "        infected = new_infected\n",
    "    \n",
    "    return recovered"
   ]
  },
  {
   "cell_type": "code",
   "execution_count": null,
   "metadata": {
    "deletable": false,
    "nbgrader": {
     "cell_type": "code",
     "checksum": "ccddb625c540c245bfb4aeb2aa52f604",
     "grade": true,
     "grade_id": "cell-6c18913d077e1491",
     "locked": false,
     "points": 0,
     "schema_version": 3,
     "solution": true,
     "task": false
    },
    "tags": []
   },
   "outputs": [],
   "source": [
    "# This piece of code runs one outbreak and visualizes the outcome on the network\n",
    "# RUN THIS MORE THAN 10 TIMES TO GET AN IDEA OF THE VARIETY OF OUTCOMES (and to answer the MyCourses question)\n",
    "\n",
    "transmission_probability=0.4 # the probability of transmission from an infected to a susceptible node\n",
    "\n",
    "## TODO: pick a random node from the network to the variable \"seed\"\n",
    "seed=None\n",
    "\n",
    "# YOUR CODE HERE\n",
    "seed = random.choice(list(network.nodes()))\n",
    "\n",
    "## TODO: run the function sir_spread with the correct parameters, and store the returned set in variable \"outbreak\"\n",
    "outbreak=None\n",
    "# YOUR CODE HERE\n",
    "outbreak = sir_spread(network, seed, transmission_probability)\n",
    "\n",
    "# different node colours for those who got infected and those who didn't\n",
    "# different node sizes for the seed and the rest\n",
    "\n",
    "node_colors=[]\n",
    "node_sizes=[]\n",
    "\n",
    "for node in network:\n",
    "    if node in outbreak:\n",
    "        node_colors.append('red')\n",
    "    else:\n",
    "        node_colors.append('gray')\n",
    "    if node==seed:\n",
    "        node_sizes.append(100)\n",
    "    else:\n",
    "        node_sizes.append(30)\n",
    "\n",
    "fig, ax = plt.subplots(figsize=(8,6))\n",
    "\n",
    "# draw the network: gray nodes weren't infected but red nodes were, and the infection started from the large red node.\n",
    "\n",
    "nx.draw(network, pos=pos,ax=ax, \n",
    "        node_size=node_sizes, \n",
    "        node_color=node_colors, \n",
    "        edgecolors='black', linewidths=0.8, \n",
    "        edge_color='lightgray', width=1, \n",
    "        alpha=0.8\n",
    "       )\n"
   ]
  },
  {
   "cell_type": "markdown",
   "metadata": {},
   "source": [
    "### c. Dependence of the outbreak size on the seed node's shell index.\n",
    "\n",
    "Next, run the SIR simulation 1000 times from random seed nodes using the code below. This time use transmission probability = 0.2. Then plot a boxplot of the outcomes for different k-shell indices of the seed nodes. How does the expected outbreak size depend on the seed node shell index?\n"
   ]
  },
  {
   "cell_type": "code",
   "execution_count": null,
   "metadata": {
    "deletable": false,
    "nbgrader": {
     "cell_type": "code",
     "checksum": "426ab2c0ab63f352121c15c28cb646f2",
     "grade": true,
     "grade_id": "cell-e1a0100715a4236a",
     "locked": false,
     "points": 0,
     "schema_version": 3,
     "solution": true,
     "task": false
    },
    "tags": []
   },
   "outputs": [],
   "source": [
    "# now let's repeat the above 1000 times and compute the average outbreak size for each shell index\n",
    "\n",
    "transmission_probability=0.2 # use this value here\n",
    "\n",
    "seed_shells=[]\n",
    "outbreak_size=[]\n",
    "\n",
    "## TODO: run the sir_spread function 1000 times and for each run, append the shell index of the randomly chosen seed node to seed_shells and the outbreak size to outbreak_size\n",
    "\n",
    "# YOUR CODE HERE\n",
    "for i in range(1000):\n",
    "    seed = random.choice(list(network.nodes()))\n",
    "    outbreak = sir_spread(network, seed, transmission_probability)\n",
    "    seed_shells.append(nx.core_number(network)[seed])\n",
    "    outbreak_size.append(len(outbreak))\n",
    "\n",
    "fig, ax = plt.subplots(figsize=(8,6))\n",
    "sns.boxplot(x=seed_shells,y=outbreak_size,ax=ax)\n",
    "ax.set_xlabel('Shell index of seed')\n",
    "ax.set_ylabel('Outbreak size')\n"
   ]
  },
  {
   "cell_type": "code",
   "execution_count": null,
   "metadata": {},
   "outputs": [],
   "source": [
    "figure_fname = 'Outbreak_size_vs_kshell.pdf'\n",
    "# This save the file in the same directory as this notebook is in. \n",
    "# To save it in a different directory, specify the path:\n",
    "# figure_fname = 'some_path/outbreak_size_vs_kshell.pdf'\n",
    "fig.savefig(figure_fname)"
   ]
  },
  {
   "cell_type": "code",
   "execution_count": null,
   "metadata": {},
   "outputs": [],
   "source": []
  }
 ],
 "metadata": {
  "kernelspec": {
   "display_name": "Python 3",
   "language": "python",
   "name": "python3"
  },
  "language_info": {
   "codemirror_mode": {
    "name": "ipython",
    "version": 3
   },
   "file_extension": ".py",
   "mimetype": "text/x-python",
   "name": "python",
   "nbconvert_exporter": "python",
   "pygments_lexer": "ipython3",
   "version": "3.10.12"
  }
 },
 "nbformat": 4,
 "nbformat_minor": 4
}
