{
 "cells": [
  {
   "cell_type": "markdown",
   "id": "e625c030-5669-45d8-8f5f-43928cd30050",
   "metadata": {},
   "source": [
    "### Impact of community structure on dynamics\n",
    "\n",
    "In this exercise, we'll continue the previous exercise's efforts and keep probing how network structure affects spreading dynamics. To this end, we'll use the same SIR spreading dynamics, again picking random seed nodes and seeing what happens. The difference is that we use an artificial network with a very pronounced community structure, generated using the stochastic block model. \n",
    "\n",
    "In the stochastic block model, nodes are divided into blocks so that the connection probabilities between nodes in the same block and nodes in different blocks are generally different. For a strong community structure, the within-block probabilities should be fairly large, while those between blocks should be smaller. \n"
   ]
  },
  {
   "cell_type": "code",
   "execution_count": null,
   "id": "adfd495b-56fb-405e-8778-77fc01400644",
   "metadata": {},
   "outputs": [],
   "source": [
    "import networkx as nx\n",
    "import matplotlib.pyplot as plt\n",
    "import random\n",
    "from math import log2"
   ]
  },
  {
   "cell_type": "markdown",
   "id": "b118ec38-4793-461b-814c-f58c745c3749",
   "metadata": {},
   "source": [
    "### a. Generating a stochastic block model network\n",
    "\n",
    "We'll first generate a network with five equal-sized blocks (100 nodes each) so that the connection probability of nodes within the blocks is much larger than between the blocks ($p_{in}=0.15$ vs $p_{out}=0.00075$). Complete the block of code below to generate the network and visualize it and then answer the question in the MyCourses quiz. "
   ]
  },
  {
   "cell_type": "code",
   "execution_count": null,
   "id": "4bbf6da8-0dfd-4e8e-b05b-5db2a535f658",
   "metadata": {
    "deletable": false,
    "nbgrader": {
     "cell_type": "code",
     "checksum": "0cd0b0797a27d6b8708298e1a77bc686",
     "grade": true,
     "grade_id": "cell-ae779d89ac9d671f",
     "locked": false,
     "points": 0,
     "schema_version": 3,
     "solution": true,
     "task": false
    },
    "tags": []
   },
   "outputs": [],
   "source": [
    "block_size=100\n",
    "p_in=0.15\n",
    "p_out=0.00075\n",
    "\n",
    "# TODO: using nx.stochastic_block_model, generate a network that has 5 blocks of size block_size, so that the connection probabilities\n",
    "# within the blocks are p_in and between blocks p_out (same probabilities for all blocks and pairs of blocks)\n",
    "# Check the help for nx.stochastic_block_model at https://networkx.org/documentation/stable/reference/generated/networkx.generators.community.stochastic_block_model.html\n",
    "# note that the parameter p is a list of lists and it is equivalent to an array representing a 5x5 matrix, with values p_in at the diagonal and\n",
    "# p_out elsewhere\n",
    "\n",
    "# YOUR CODE HERE\n",
    "p=[[p_in if i==j else p_out for i in range(5)] for j in range(5)]\n",
    "network=nx.stochastic_block_model([block_size]*5,p)\n",
    "\n",
    "fig,ax=plt.subplots(figsize=(8,8))\n",
    "\n",
    "pos=nx.spring_layout(network) # get the coordinates for reuse\n",
    "nx.draw(network,ax=ax,pos=pos,node_size=20)"
   ]
  },
  {
   "cell_type": "code",
   "execution_count": null,
   "id": "e8079278-7b3c-435f-8b0f-de4bcb31105e",
   "metadata": {},
   "outputs": [],
   "source": [
    "filename=\"./SBM.pdf\"\n",
    "fig.savefig(filename)"
   ]
  },
  {
   "cell_type": "markdown",
   "id": "e48c3ce1-a941-4a97-86d3-de98ec4adf65",
   "metadata": {},
   "source": [
    "### b. SIR spreading on the stochastic block model network\n",
    "\n",
    "Let's next recycle the SIR code from the previous exercise and run viral spreading starting from random seed nodes. No need to touch the code, just run the visualization code block several times and observe what is happening. Then answer the MyCourses quiz question. "
   ]
  },
  {
   "cell_type": "code",
   "execution_count": null,
   "id": "b0f667ab-ef3f-484f-b042-a8ee61cb7f9e",
   "metadata": {},
   "outputs": [],
   "source": [
    "# NO NEED TO MODIFY THIS\n",
    "\n",
    "def sir_spread(G, seed_node, transmission_prob):\n",
    "    \"\"\"\n",
    "    Simulate the SIR spreading process on a NetworkX graph. First infect seed_node,\n",
    "    then with transmission_prob each susceptible neighbour of each infected node,\n",
    "    who are infectious for one time step and then turn recovered. The process\n",
    "    stops when there are no infectious nodes left. \n",
    "    \n",
    "    Parameters:\n",
    "    - G: NetworkX Graph object\n",
    "    - seed_node: The initial node from which the infection starts\n",
    "    - transmission_prob: Probability of transmission across a link\n",
    "    \n",
    "    Returns:\n",
    "    - The set of nodes that were infected during the process\n",
    "    \"\"\"\n",
    "    # Initialize node states\n",
    "    susceptible = set(G.nodes())\n",
    "    infected = set()\n",
    "    recovered = set()\n",
    "    \n",
    "    # Start the infection from the seed node\n",
    "    if seed_node not in G.nodes():\n",
    "        raise ValueError(\"Seed node must be in the graph.\")\n",
    "    \n",
    "    susceptible.remove(seed_node)\n",
    "    infected.add(seed_node)\n",
    "        \n",
    "    while infected:\n",
    "        new_infected = set()\n",
    "        \n",
    "        # For each infected node, attempt to spread the infection\n",
    "        for node in infected:\n",
    "            neighbors = set(G.neighbors(node))\n",
    "            susceptible_neighbors = neighbors.intersection(susceptible)\n",
    "            \n",
    "            for neighbor in susceptible_neighbors:\n",
    "                if random.random() < transmission_prob:\n",
    "                    new_infected.add(neighbor)\n",
    "        \n",
    "        # Update the states of the nodes\n",
    "        recovered.update(infected)\n",
    "        susceptible.difference_update(new_infected)\n",
    "        infected = new_infected\n",
    "    \n",
    "    return recovered"
   ]
  },
  {
   "cell_type": "code",
   "execution_count": null,
   "id": "a66f74c7-a969-4314-a8e3-4a7f494592bd",
   "metadata": {},
   "outputs": [],
   "source": [
    "# This piece of code runs one outbreak and visualizes the outcome on the network\n",
    "# RUN THIS SEVERAL TIMES TO GET AN IDEA OF THE VARIETY OF OUTCOMES (and to answer the MyCourses question)\n",
    "\n",
    "transmission_probability=0.1 # the probability of transmission from an infected to a susceptible node\n",
    "\n",
    "seed=random.choice(list(network.nodes()))\n",
    "\n",
    "outbreak=sir_spread(network,seed,transmission_probability) \n",
    "\n",
    "# different node colours for those who got infected and those who didn't\n",
    "# different node sizes for the seed and the rest\n",
    "\n",
    "node_colors=[]\n",
    "node_sizes=[]\n",
    "\n",
    "for node in network:\n",
    "    if node in outbreak:\n",
    "        node_colors.append('red')\n",
    "    else:\n",
    "        node_colors.append('gray')\n",
    "    if node==seed:\n",
    "        node_sizes.append(100)\n",
    "    else:\n",
    "        node_sizes.append(30)\n",
    "\n",
    "fig, ax = plt.subplots(figsize=(8,6))\n",
    "\n",
    "# draw the network: gray nodes weren't infected but red nodes were, and the infection started from the large red node.\n",
    "\n",
    "nx.draw(network, pos=pos,ax=ax, \n",
    "        node_size=node_sizes, \n",
    "        node_color=node_colors, \n",
    "        edgecolors='black', linewidths=0.8, \n",
    "        edge_color='lightgray', width=1, \n",
    "        alpha=0.8\n",
    "       )\n"
   ]
  },
  {
   "cell_type": "code",
   "execution_count": null,
   "id": "4e1daf25-0167-4661-92ae-a2d058f5c70a",
   "metadata": {},
   "outputs": [],
   "source": [
    "filename=\"./SBM_outbreak.pdf\"\n",
    "fig.savefig(filename)"
   ]
  },
  {
   "cell_type": "markdown",
   "id": "8bb30c8f-356b-4062-80b7-a8b1fbc045e5",
   "metadata": {},
   "source": [
    "### c. Detecting the communities with label propagation\n",
    "\n",
    "The five communities are clearly visible in the above visualizations, but we don't yet know the node ids of the communities. As we'll soon need this information, let's run the label propagation algorithm of networkx to get the communities (see https://networkx.org/documentation). Do this and check that you've identified the communities correctly by display the network with nodes coloured according to their community membership. "
   ]
  },
  {
   "cell_type": "code",
   "execution_count": null,
   "id": "3e46aec3-408c-4f21-a380-74d980b966b7",
   "metadata": {
    "deletable": false,
    "nbgrader": {
     "cell_type": "code",
     "checksum": "0d3e63c7b36a20991ca5ecce8c715bb4",
     "grade": true,
     "grade_id": "cell-8435988abdedca12",
     "locked": false,
     "points": 0,
     "schema_version": 3,
     "solution": true,
     "task": false
    },
    "tags": []
   },
   "outputs": [],
   "source": [
    "\n",
    "## TODO: use networkx subpackage community (usage: nx.community.somefunction) to get label propagation communities\n",
    "\n",
    "communities=None # this variable should contain a list of lists, where each list contains nodes of one community\n",
    "\n",
    "# YOUR CODE HERE\n",
    "communities=list(nx.community.label_propagation_communities(network))\n",
    "\n",
    "## TODO: the variable communities should now contain lists of nodes, with each list corresponding to one community.\n",
    "## TODO: now create a dictionary node_color_dict whose keys are nodes and values are colours, so that each community\n",
    "## TODO: has its own color. You can use the list of colours below. \n",
    "\n",
    "colors = ['#1f77b4', '#ff7f0e', '#2ca02c', '#d62728', '#9467bd']\n",
    "\n",
    "node_color_dict={}\n",
    "\n",
    "# YOUR CODE HERE\n",
    "for i in range(len(communities)):\n",
    "    for node in communities[i]:\n",
    "        node_color_dict[node]=colors[i]\n",
    "\n",
    "# Then we'll have to transform the dictionary into a list because nx.draw is weird and wants a list. \n",
    "\n",
    "node_color_list=[] \n",
    "for node in network:\n",
    "    node_color_list.append(node_color_dict[node])\n",
    "\n",
    "fig, ax = plt.subplots(figsize=(8,6))\n",
    "\n",
    "# draw the network: nodes in each community should be drawn in the colour of that community. \n",
    "\n",
    "nx.draw(network, pos=pos,ax=ax, \n",
    "        node_size=30, \n",
    "        node_color=node_color_list, \n",
    "        edgecolors='black', linewidths=0.8, \n",
    "        edge_color='lightgray', width=1, \n",
    "        alpha=0.8\n",
    "       )\n",
    "\n",
    "    "
   ]
  },
  {
   "cell_type": "code",
   "execution_count": null,
   "id": "4654d007-f2f3-44fe-8cc9-1a6d0c23a81b",
   "metadata": {},
   "outputs": [],
   "source": [
    "filename=\"./SBM_communities.pdf\"\n",
    "fig.savefig(filename)"
   ]
  },
  {
   "cell_type": "markdown",
   "id": "49cece6e-da79-4c0b-9eb5-9f93cd8c6eb5",
   "metadata": {},
   "source": [
    "### d. Entropy of outbreaks\n",
    "\n",
    "Let's now formalize the result of b. We want to quantitatively check whether the outbreaks tend to localize within communities or not. To this end, we'll again run the SIR spreading process 1000 times, and compute the following entropy measure for each run: $$S=-\\sum_{i=1}^5 p(i)\\log_2 p(i),$$ where we define $p(i)$ as the probability of a randomly picked infected node belonging to the community $i$. As a reference, if the outbreak is uniformly spread across the network without following the community structure, then $p(i)=1/5 \\forall i$, and the reference entropy $S_{ref}\\approx 2.32$.\n",
    "\n",
    "Modify the block of code below to compute the entropies for 1000 runs (more precisely, those runs out of 1000 runs where the outbreak doesn't cease immediately). Then plot a histogram that shows the entropies and answer the MyCourses questions.\n"
   ]
  },
  {
   "cell_type": "code",
   "execution_count": null,
   "id": "760049e7-0e4a-41d5-afa4-c5391dced349",
   "metadata": {
    "deletable": false,
    "nbgrader": {
     "cell_type": "code",
     "checksum": "63bdd09498caa4e446bde162f36d1197",
     "grade": true,
     "grade_id": "cell-469e088a036c0cc2",
     "locked": false,
     "points": 0,
     "schema_version": 3,
     "solution": true,
     "task": false
    }
   },
   "outputs": [],
   "source": [
    "community_id={} \n",
    "entropy_values=[]\n",
    "\n",
    "for i in range(0,1000):\n",
    "\n",
    "    transmission_probability=0.1 # the probability of transmission from an infected to a susceptible node\n",
    "    seed=random.choice(list(network.nodes()))\n",
    "    outbreak=sir_spread(network,seed,transmission_probability) \n",
    "    outbreak_size=len(outbreak)\n",
    "\n",
    "    # dictionaries for how many infected nodes there are in each community and their sizes\n",
    "\n",
    "    community_infected={}\n",
    "\n",
    "    ## TODO: write a loop that iterates over communities in the variable communities (from the above block)\n",
    "    ## TODO: and fills in the dictionary community_infected={community index : number of infected}\n",
    "\n",
    "    # YOUR CODE HERE\n",
    "    for i in range(len(communities)):\n",
    "        community_infected[i]=0\n",
    "        for node in communities[i]:\n",
    "            if node in outbreak:\n",
    "                community_infected[i]+=1\n",
    "\n",
    "    if outbreak_size>1: # We'll censor out those outbreaks that do not take off at all with trivially zero entropy\n",
    "\n",
    "        S=0\n",
    "    \n",
    "        for i in community_infected:\n",
    "\n",
    "            ## TODO: compute the probability p_i that a randomly picked infected node is in community i\n",
    "            ## TODO: and use it to compute this run's entropy S\n",
    "            ## TODO: note: if p(i)=0, one uses in the entropy sum the limiting value p(i)log(p(i))=0 (log of 0 doesn't exist)\n",
    "            ## TODO: You can use `log2` function to compute the base-2 logarithm\n",
    "\n",
    "            # YOUR CODE HERE\n",
    "            p_i=community_infected[i]/outbreak_size\n",
    "            if p_i>0:\n",
    "                S+=-p_i*log2(p_i)\n",
    "\n",
    "        entropy_values.append(S)\n",
    "\n",
    "fig, ax = plt.subplots(figsize=(8,6))\n",
    "\n",
    "ax.hist(entropy_values,bins=20);\n",
    "\n",
    "ymax=ax.get_ylim()[1]\n",
    "\n",
    "max_entropy=2.322\n",
    "ax.plot([max_entropy, max_entropy],[0,ymax],'r--') # the maximum entropy line for reference\n",
    "ax.text(max_entropy-0.1,int(ymax/2),'Value for uniform spread',color='red',rotation=90)\n",
    "\n",
    "ax.set_xlabel('Entropy S')\n",
    "ax.set_ylabel('Runs')\n",
    "        "
   ]
  },
  {
   "cell_type": "code",
   "execution_count": null,
   "id": "590b5d58-5450-4c5c-b765-15f9f30933bf",
   "metadata": {},
   "outputs": [],
   "source": [
    "fname='SBM_entropy.pdf'\n",
    "fig.savefig('./'+fname)"
   ]
  },
  {
   "cell_type": "code",
   "execution_count": null,
   "id": "31cd4cc6-41b5-40e4-b893-b7742404a3b6",
   "metadata": {},
   "outputs": [],
   "source": []
  }
 ],
 "metadata": {
  "kernelspec": {
   "display_name": "Python 3",
   "language": "python",
   "name": "python3"
  },
  "language_info": {
   "codemirror_mode": {
    "name": "ipython",
    "version": 3
   },
   "file_extension": ".py",
   "mimetype": "text/x-python",
   "name": "python",
   "nbconvert_exporter": "python",
   "pygments_lexer": "ipython3",
   "version": "3.10.12"
  }
 },
 "nbformat": 4,
 "nbformat_minor": 5
}
